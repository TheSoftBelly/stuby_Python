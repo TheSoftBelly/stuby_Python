{
 "cells": [
  {
   "cell_type": "code",
   "execution_count": 2,
   "metadata": {},
   "outputs": [],
   "source": [
    "import requests\n",
    "from bs4 import BeautifulSoup\n",
    "\n",
    "BASE_URL = 'https://www.thebell.co.kr/free/content/article.asp?page=1&svccode=00'\n",
    "res = requests.get(BASE_URL)\n",
    "soup= BeautifulSoup(res.text , 'html.parser')\n",
    "asideBox = soup.select('#contents > div.contentSection > div > div.asideBox > div.bestBox.tp2 > div > ul > li > ul > li > a')\n",
    "asideBox_all_titles=[]\n",
    "asideBox_hrefs = []\n",
    "asideBox_results = []\n",
    "asideBox_call_hrefs = soup.find_all('a', class_='txtE')\n",
    "for asideBox_href in asideBox_call_hrefs:\n",
    "    asideBox_hrefs.append('https://www.thebell.co.kr/'+asideBox_href.attrs['href'])\n",
    "for asideBox_title in asideBox:\n",
    "    asideBox_titles=asideBox_title.text.strip()\n",
    "    asideBox_all_titles.append(asideBox_titles)\n",
    "for asideBox_num in range(1,11):\n",
    "    asideBox_result={'순위':asideBox_num,'제목':asideBox_all_titles[asideBox_num-1], '링크':asideBox_hrefs[asideBox_num-1]}\n",
    "    asideBox_results.append(asideBox_result)\n"
   ]
  },
  {
   "cell_type": "code",
   "execution_count": 3,
   "metadata": {},
   "outputs": [
    {
     "data": {
      "text/plain": [
       "['https://www.thebell.co.kr//free/Content/ArticleView.asp?key=202209131358485200104564',\n",
       " 'https://www.thebell.co.kr//free/Content/ArticleView.asp?key=202209081230572680101141',\n",
       " 'https://www.thebell.co.kr//free/Content/ArticleView.asp?key=202209141641105400106335',\n",
       " 'https://www.thebell.co.kr//free/Content/ArticleView.asp?key=202209072316325360101429',\n",
       " 'https://www.thebell.co.kr//free/Content/ArticleView.asp?key=202209141013280400104646',\n",
       " 'https://www.thebell.co.kr//free/Content/ArticleView.asp?key=202209140955459480109129',\n",
       " 'https://www.thebell.co.kr//free/Content/ArticleView.asp?key=202209151116540040104185',\n",
       " 'https://www.thebell.co.kr//free/Content/ArticleView.asp?key=202209071456143240102538',\n",
       " 'https://www.thebell.co.kr//free/Content/ArticleView.asp?key=202209061025474480107616',\n",
       " 'https://www.thebell.co.kr//free/Content/ArticleView.asp?key=202209061740168120101464']"
      ]
     },
     "execution_count": 3,
     "metadata": {},
     "output_type": "execute_result"
    }
   ],
   "source": [
    "asideBox_hrefs = []\n",
    "asideBox_call_hrefs = soup.find_all('a', class_='txtE')\n",
    "for asideBox_href in asideBox_call_hrefs:\n",
    "    asideBox_hrefs.append('https://www.thebell.co.kr/'+asideBox_href.attrs['href'])\n",
    "asideBox_hrefs\n"
   ]
  },
  {
   "cell_type": "code",
   "execution_count": 4,
   "metadata": {},
   "outputs": [
    {
     "name": "stdout",
     "output_type": "stream",
     "text": [
      "True\n"
     ]
    },
    {
     "ename": "NameError",
     "evalue": "name 'weather_box_result' is not defined",
     "output_type": "error",
     "traceback": [
      "\u001b[0;31m---------------------------------------------------------------------------\u001b[0m",
      "\u001b[0;31mNameError\u001b[0m                                 Traceback (most recent call last)",
      "\u001b[1;32m/Users/joon/Desktop/boom/1.0.1.ipynb 셀 3\u001b[0m in \u001b[0;36m<cell line: 6>\u001b[0;34m()\u001b[0m\n\u001b[1;32m      <a href='vscode-notebook-cell:/Users/joon/Desktop/boom/1.0.1.ipynb#W2sZmlsZQ%3D%3D?line=1'>2</a>\u001b[0m \u001b[39mprint\u001b[39m(os\u001b[39m.\u001b[39mpath\u001b[39m.\u001b[39misfile(\u001b[39m\"\u001b[39m\u001b[39mhtml_test.html\u001b[39m\u001b[39m\"\u001b[39m))\n\u001b[1;32m      <a href='vscode-notebook-cell:/Users/joon/Desktop/boom/1.0.1.ipynb#W2sZmlsZQ%3D%3D?line=3'>4</a>\u001b[0m file \u001b[39m=\u001b[39m \u001b[39mopen\u001b[39m(\u001b[39m'\u001b[39m\u001b[39mhtml_test.html\u001b[39m\u001b[39m'\u001b[39m,\u001b[39m'\u001b[39m\u001b[39mw\u001b[39m\u001b[39m'\u001b[39m,encoding\u001b[39m=\u001b[39m\u001b[39m'\u001b[39m\u001b[39mUTF-8\u001b[39m\u001b[39m'\u001b[39m)\n\u001b[1;32m      <a href='vscode-notebook-cell:/Users/joon/Desktop/boom/1.0.1.ipynb#W2sZmlsZQ%3D%3D?line=5'>6</a>\u001b[0m file\u001b[39m.\u001b[39mwrite(\u001b[39mf\u001b[39m\u001b[39m'''\u001b[39m\u001b[39m<div style=\u001b[39m\u001b[39m\"\u001b[39m\u001b[39mbackground-color: linen; padding-bottom: 15%;\u001b[39m\u001b[39m\"\u001b[39m\u001b[39m>\u001b[39m\n\u001b[1;32m      <a href='vscode-notebook-cell:/Users/joon/Desktop/boom/1.0.1.ipynb#W2sZmlsZQ%3D%3D?line=6'>7</a>\u001b[0m \u001b[39m    <div style=\u001b[39m\u001b[39m\"\u001b[39m\u001b[39mfont-size: -webkit-xxx-large; text-align: center; color: #ff2222; padding-top: 5%;padding-bottom: 5%;\u001b[39m\u001b[39m\"\u001b[39m\u001b[39m>오늘의 뉴스</div>\u001b[39m\n\u001b[1;32m      <a href='vscode-notebook-cell:/Users/joon/Desktop/boom/1.0.1.ipynb#W2sZmlsZQ%3D%3D?line=7'>8</a>\u001b[0m \u001b[39m         <a href=\u001b[39m\u001b[39m\"\u001b[39m\u001b[39mhttps://search.naver.com/search.naver?where=nexearch&sm=top_hty&fbm=1&ie=utf8&query=%EB%82%A0%EC%94%A8\u001b[39m\u001b[39m\"\u001b[39m\u001b[39m style=\u001b[39m\u001b[39m\"\u001b[39m\u001b[39mdisplay: block;text-align: -webkit-center;padding-top: 15px;padding-bottom: 15px; color: black;\u001b[39m\u001b[39m\"\u001b[39m\u001b[39m>오늘의 날씨</a>\u001b[39m\n\u001b[0;32m----> <a href='vscode-notebook-cell:/Users/joon/Desktop/boom/1.0.1.ipynb#W2sZmlsZQ%3D%3D?line=8'>9</a>\u001b[0m \u001b[39m        \u001b[39m\u001b[39m{\u001b[39;00mweather_box_result\u001b[39m}\u001b[39;00m\n\u001b[1;32m     <a href='vscode-notebook-cell:/Users/joon/Desktop/boom/1.0.1.ipynb#W2sZmlsZQ%3D%3D?line=9'>10</a>\u001b[0m \u001b[39m        <table style=\u001b[39m\u001b[39m\"\u001b[39m\u001b[39mpadding:15px 0px 15px 0px;border:0;width:100%;height:0;background:none;border-top-width:1px;border-top-style:dashed;border-top-color:#c9c9c9;margin:0 0\u001b[39m\u001b[39m\"\u001b[39m\u001b[39m></table>\u001b[39m\n\u001b[1;32m     <a href='vscode-notebook-cell:/Users/joon/Desktop/boom/1.0.1.ipynb#W2sZmlsZQ%3D%3D?line=10'>11</a>\u001b[0m \u001b[39m        <div style=\u001b[39m\u001b[39m\"\u001b[39m\u001b[39mmargin-left: 10%; padding-bottom: 30px;\u001b[39m\u001b[39m\"\u001b[39m\u001b[39m class=\u001b[39m\u001b[39m\"\u001b[39m\u001b[39mrank\u001b[39m\u001b[39m\"\u001b[39m\u001b[39m>\u001b[39m\n\u001b[1;32m     <a href='vscode-notebook-cell:/Users/joon/Desktop/boom/1.0.1.ipynb#W2sZmlsZQ%3D%3D?line=11'>12</a>\u001b[0m \u001b[39m            <ul>\u001b[39m\n\u001b[1;32m     <a href='vscode-notebook-cell:/Users/joon/Desktop/boom/1.0.1.ipynb#W2sZmlsZQ%3D%3D?line=12'>13</a>\u001b[0m \u001b[39m                <a href=\u001b[39m\u001b[39m'\u001b[39m\u001b[39m{\u001b[39;00masideBox_hrefs[\u001b[39m0\u001b[39m]\u001b[39m}\u001b[39;00m\u001b[39m'\u001b[39m\u001b[39m style=\u001b[39m\u001b[39m\"\u001b[39m\u001b[39mcolor: black;\u001b[39m\u001b[39m\"\u001b[39m\u001b[39m>1.\u001b[39m\u001b[39m{\u001b[39;00masideBox_all_titles[\u001b[39m0\u001b[39m]\u001b[39m}\u001b[39;00m\u001b[39m</ul>\u001b[39m\n\u001b[1;32m     <a href='vscode-notebook-cell:/Users/joon/Desktop/boom/1.0.1.ipynb#W2sZmlsZQ%3D%3D?line=13'>14</a>\u001b[0m \u001b[39m            </ul>\u001b[39m\n\u001b[1;32m     <a href='vscode-notebook-cell:/Users/joon/Desktop/boom/1.0.1.ipynb#W2sZmlsZQ%3D%3D?line=14'>15</a>\u001b[0m \u001b[39m            <ul>\u001b[39m\n\u001b[1;32m     <a href='vscode-notebook-cell:/Users/joon/Desktop/boom/1.0.1.ipynb#W2sZmlsZQ%3D%3D?line=15'>16</a>\u001b[0m \u001b[39m                <a href=\u001b[39m\u001b[39m'\u001b[39m\u001b[39m{\u001b[39;00masideBox_hrefs[\u001b[39m1\u001b[39m]\u001b[39m}\u001b[39;00m\u001b[39m'\u001b[39m\u001b[39m style=\u001b[39m\u001b[39m\"\u001b[39m\u001b[39mcolor: black;\u001b[39m\u001b[39m\"\u001b[39m\u001b[39m>2.\u001b[39m\u001b[39m{\u001b[39;00masideBox_all_titles[\u001b[39m1\u001b[39m]\u001b[39m}\u001b[39;00m\u001b[39m</ul>\u001b[39m\n\u001b[1;32m     <a href='vscode-notebook-cell:/Users/joon/Desktop/boom/1.0.1.ipynb#W2sZmlsZQ%3D%3D?line=16'>17</a>\u001b[0m \u001b[39m            </ul>\u001b[39m\n\u001b[1;32m     <a href='vscode-notebook-cell:/Users/joon/Desktop/boom/1.0.1.ipynb#W2sZmlsZQ%3D%3D?line=17'>18</a>\u001b[0m \u001b[39m            <ul>\u001b[39m\n\u001b[1;32m     <a href='vscode-notebook-cell:/Users/joon/Desktop/boom/1.0.1.ipynb#W2sZmlsZQ%3D%3D?line=18'>19</a>\u001b[0m \u001b[39m                <a href=\u001b[39m\u001b[39m'\u001b[39m\u001b[39m{\u001b[39;00masideBox_hrefs[\u001b[39m2\u001b[39m]\u001b[39m}\u001b[39;00m\u001b[39m'\u001b[39m\u001b[39m style=\u001b[39m\u001b[39m\"\u001b[39m\u001b[39mcolor: black;\u001b[39m\u001b[39m\"\u001b[39m\u001b[39m>3.\u001b[39m\u001b[39m{\u001b[39;00masideBox_all_titles[\u001b[39m2\u001b[39m]\u001b[39m}\u001b[39;00m\u001b[39m</ul>\u001b[39m\n\u001b[1;32m     <a href='vscode-notebook-cell:/Users/joon/Desktop/boom/1.0.1.ipynb#W2sZmlsZQ%3D%3D?line=19'>20</a>\u001b[0m \u001b[39m            </ul>\u001b[39m\n\u001b[1;32m     <a href='vscode-notebook-cell:/Users/joon/Desktop/boom/1.0.1.ipynb#W2sZmlsZQ%3D%3D?line=20'>21</a>\u001b[0m \u001b[39m            <ul>\u001b[39m\n\u001b[1;32m     <a href='vscode-notebook-cell:/Users/joon/Desktop/boom/1.0.1.ipynb#W2sZmlsZQ%3D%3D?line=21'>22</a>\u001b[0m \u001b[39m                <a href=\u001b[39m\u001b[39m'\u001b[39m\u001b[39m{\u001b[39;00masideBox_hrefs[\u001b[39m3\u001b[39m]\u001b[39m}\u001b[39;00m\u001b[39m'\u001b[39m\u001b[39m style=\u001b[39m\u001b[39m\"\u001b[39m\u001b[39mcolor: black;\u001b[39m\u001b[39m\"\u001b[39m\u001b[39m>4.\u001b[39m\u001b[39m{\u001b[39;00masideBox_all_titles[\u001b[39m3\u001b[39m]\u001b[39m}\u001b[39;00m\u001b[39m</a>\u001b[39m\n\u001b[1;32m     <a href='vscode-notebook-cell:/Users/joon/Desktop/boom/1.0.1.ipynb#W2sZmlsZQ%3D%3D?line=22'>23</a>\u001b[0m \u001b[39m            </ul>\u001b[39m\n\u001b[1;32m     <a href='vscode-notebook-cell:/Users/joon/Desktop/boom/1.0.1.ipynb#W2sZmlsZQ%3D%3D?line=23'>24</a>\u001b[0m \u001b[39m            <ul>\u001b[39m\n\u001b[1;32m     <a href='vscode-notebook-cell:/Users/joon/Desktop/boom/1.0.1.ipynb#W2sZmlsZQ%3D%3D?line=24'>25</a>\u001b[0m \u001b[39m                <a href=\u001b[39m\u001b[39m'\u001b[39m\u001b[39m{\u001b[39;00masideBox_hrefs[\u001b[39m4\u001b[39m]\u001b[39m}\u001b[39;00m\u001b[39m'\u001b[39m\u001b[39m style=\u001b[39m\u001b[39m\"\u001b[39m\u001b[39mcolor: black;\u001b[39m\u001b[39m\"\u001b[39m\u001b[39m>5.\u001b[39m\u001b[39m{\u001b[39;00masideBox_all_titles[\u001b[39m4\u001b[39m]\u001b[39m}\u001b[39;00m\u001b[39m</a>\u001b[39m\n\u001b[1;32m     <a href='vscode-notebook-cell:/Users/joon/Desktop/boom/1.0.1.ipynb#W2sZmlsZQ%3D%3D?line=25'>26</a>\u001b[0m \u001b[39m            </ul>\u001b[39m\n\u001b[1;32m     <a href='vscode-notebook-cell:/Users/joon/Desktop/boom/1.0.1.ipynb#W2sZmlsZQ%3D%3D?line=26'>27</a>\u001b[0m \u001b[39m            <ul>\u001b[39m\n\u001b[1;32m     <a href='vscode-notebook-cell:/Users/joon/Desktop/boom/1.0.1.ipynb#W2sZmlsZQ%3D%3D?line=27'>28</a>\u001b[0m \u001b[39m                <a href=\u001b[39m\u001b[39m'\u001b[39m\u001b[39m{\u001b[39;00masideBox_hrefs[\u001b[39m5\u001b[39m]\u001b[39m}\u001b[39;00m\u001b[39m'\u001b[39m\u001b[39m style=\u001b[39m\u001b[39m\"\u001b[39m\u001b[39mcolor: black;\u001b[39m\u001b[39m\"\u001b[39m\u001b[39m>6.\u001b[39m\u001b[39m{\u001b[39;00masideBox_all_titles[\u001b[39m5\u001b[39m]\u001b[39m}\u001b[39;00m\u001b[39m</a>\u001b[39m\n\u001b[1;32m     <a href='vscode-notebook-cell:/Users/joon/Desktop/boom/1.0.1.ipynb#W2sZmlsZQ%3D%3D?line=28'>29</a>\u001b[0m \u001b[39m            </ul>\u001b[39m\n\u001b[1;32m     <a href='vscode-notebook-cell:/Users/joon/Desktop/boom/1.0.1.ipynb#W2sZmlsZQ%3D%3D?line=29'>30</a>\u001b[0m \u001b[39m            <ul>\u001b[39m\n\u001b[1;32m     <a href='vscode-notebook-cell:/Users/joon/Desktop/boom/1.0.1.ipynb#W2sZmlsZQ%3D%3D?line=30'>31</a>\u001b[0m \u001b[39m                <a href=\u001b[39m\u001b[39m'\u001b[39m\u001b[39m{\u001b[39;00masideBox_hrefs[\u001b[39m6\u001b[39m]\u001b[39m}\u001b[39;00m\u001b[39m'\u001b[39m\u001b[39m style=\u001b[39m\u001b[39m\"\u001b[39m\u001b[39mcolor: black;\u001b[39m\u001b[39m\"\u001b[39m\u001b[39m>7.\u001b[39m\u001b[39m{\u001b[39;00masideBox_all_titles[\u001b[39m6\u001b[39m]\u001b[39m}\u001b[39;00m\u001b[39m</a>\u001b[39m\n\u001b[1;32m     <a href='vscode-notebook-cell:/Users/joon/Desktop/boom/1.0.1.ipynb#W2sZmlsZQ%3D%3D?line=31'>32</a>\u001b[0m \u001b[39m            </ul>\u001b[39m\n\u001b[1;32m     <a href='vscode-notebook-cell:/Users/joon/Desktop/boom/1.0.1.ipynb#W2sZmlsZQ%3D%3D?line=32'>33</a>\u001b[0m \u001b[39m            <ul>\u001b[39m\n\u001b[1;32m     <a href='vscode-notebook-cell:/Users/joon/Desktop/boom/1.0.1.ipynb#W2sZmlsZQ%3D%3D?line=33'>34</a>\u001b[0m \u001b[39m                <a href=\u001b[39m\u001b[39m'\u001b[39m\u001b[39m{\u001b[39;00masideBox_hrefs[\u001b[39m7\u001b[39m]\u001b[39m}\u001b[39;00m\u001b[39m'\u001b[39m\u001b[39m style=\u001b[39m\u001b[39m\"\u001b[39m\u001b[39mcolor: black;\u001b[39m\u001b[39m\"\u001b[39m\u001b[39m>8.\u001b[39m\u001b[39m{\u001b[39;00masideBox_all_titles[\u001b[39m7\u001b[39m]\u001b[39m}\u001b[39;00m\u001b[39m</a>\u001b[39m\n\u001b[1;32m     <a href='vscode-notebook-cell:/Users/joon/Desktop/boom/1.0.1.ipynb#W2sZmlsZQ%3D%3D?line=34'>35</a>\u001b[0m \u001b[39m            </ul>\u001b[39m\n\u001b[1;32m     <a href='vscode-notebook-cell:/Users/joon/Desktop/boom/1.0.1.ipynb#W2sZmlsZQ%3D%3D?line=35'>36</a>\u001b[0m \u001b[39m            <ul>\u001b[39m\n\u001b[1;32m     <a href='vscode-notebook-cell:/Users/joon/Desktop/boom/1.0.1.ipynb#W2sZmlsZQ%3D%3D?line=36'>37</a>\u001b[0m \u001b[39m                <a href=\u001b[39m\u001b[39m'\u001b[39m\u001b[39m{\u001b[39;00masideBox_hrefs[\u001b[39m8\u001b[39m]\u001b[39m}\u001b[39;00m\u001b[39m'\u001b[39m\u001b[39m style=\u001b[39m\u001b[39m\"\u001b[39m\u001b[39mcolor: black;\u001b[39m\u001b[39m\"\u001b[39m\u001b[39m>9.\u001b[39m\u001b[39m{\u001b[39;00masideBox_all_titles[\u001b[39m8\u001b[39m]\u001b[39m}\u001b[39;00m\u001b[39m</a>\u001b[39m\n\u001b[1;32m     <a href='vscode-notebook-cell:/Users/joon/Desktop/boom/1.0.1.ipynb#W2sZmlsZQ%3D%3D?line=37'>38</a>\u001b[0m \u001b[39m            </ul>\u001b[39m\n\u001b[1;32m     <a href='vscode-notebook-cell:/Users/joon/Desktop/boom/1.0.1.ipynb#W2sZmlsZQ%3D%3D?line=38'>39</a>\u001b[0m \u001b[39m            <ul>\u001b[39m\n\u001b[1;32m     <a href='vscode-notebook-cell:/Users/joon/Desktop/boom/1.0.1.ipynb#W2sZmlsZQ%3D%3D?line=39'>40</a>\u001b[0m \u001b[39m                <a href=\u001b[39m\u001b[39m'\u001b[39m\u001b[39m{\u001b[39;00masideBox_hrefs[\u001b[39m9\u001b[39m]\u001b[39m}\u001b[39;00m\u001b[39m'\u001b[39m\u001b[39m style=\u001b[39m\u001b[39m\"\u001b[39m\u001b[39mcolor: black;\u001b[39m\u001b[39m\"\u001b[39m\u001b[39m>10.\u001b[39m\u001b[39m{\u001b[39;00masideBox_all_titles[\u001b[39m9\u001b[39m]\u001b[39m}\u001b[39;00m\u001b[39m</a>\u001b[39m\n\u001b[1;32m     <a href='vscode-notebook-cell:/Users/joon/Desktop/boom/1.0.1.ipynb#W2sZmlsZQ%3D%3D?line=40'>41</a>\u001b[0m \u001b[39m            </ul>\u001b[39m\u001b[39m'''\u001b[39m)\n\u001b[1;32m     <a href='vscode-notebook-cell:/Users/joon/Desktop/boom/1.0.1.ipynb#W2sZmlsZQ%3D%3D?line=41'>42</a>\u001b[0m file\u001b[39m.\u001b[39mclose()\n",
      "\u001b[0;31mNameError\u001b[0m: name 'weather_box_result' is not defined"
     ]
    }
   ],
   "source": [
    "\n",
    "import os\n",
    "print(os.path.isfile(\"html_test.html\"))\n",
    "\n",
    "file = open('html_test.html','w',encoding='UTF-8')\n",
    "\n",
    "file.write(f'''<div style=\"background-color: linen; padding-bottom: 15%;\">\n",
    "    <div style=\"font-size: -webkit-xxx-large; text-align: center; color: #ff2222; padding-top: 5%;padding-bottom: 5%;\">오늘의 뉴스</div>\n",
    "         <a href=\"https://search.naver.com/search.naver?where=nexearch&sm=top_hty&fbm=1&ie=utf8&query=%EB%82%A0%EC%94%A8\" style=\"display: block;text-align: -webkit-center;padding-top: 15px;padding-bottom: 15px; color: black;\">오늘의 날씨</a>\n",
    "        {weather_box_result}\n",
    "        <table style=\"padding:15px 0px 15px 0px;border:0;width:100%;height:0;background:none;border-top-width:1px;border-top-style:dashed;border-top-color:#c9c9c9;margin:0 0\"></table>\n",
    "        <div style=\"margin-left: 10%; padding-bottom: 30px;\" class=\"rank\">\n",
    "            <ul>\n",
    "                <a href='{asideBox_hrefs[0]}' style=\"color: black;\">1.{asideBox_all_titles[0]}</ul>\n",
    "            </ul>\n",
    "            <ul>\n",
    "                <a href='{asideBox_hrefs[1]}' style=\"color: black;\">2.{asideBox_all_titles[1]}</ul>\n",
    "            </ul>\n",
    "            <ul>\n",
    "                <a href='{asideBox_hrefs[2]}' style=\"color: black;\">3.{asideBox_all_titles[2]}</ul>\n",
    "            </ul>\n",
    "            <ul>\n",
    "                <a href='{asideBox_hrefs[3]}' style=\"color: black;\">4.{asideBox_all_titles[3]}</a>\n",
    "            </ul>\n",
    "            <ul>\n",
    "                <a href='{asideBox_hrefs[4]}' style=\"color: black;\">5.{asideBox_all_titles[4]}</a>\n",
    "            </ul>\n",
    "            <ul>\n",
    "                <a href='{asideBox_hrefs[5]}' style=\"color: black;\">6.{asideBox_all_titles[5]}</a>\n",
    "            </ul>\n",
    "            <ul>\n",
    "                <a href='{asideBox_hrefs[6]}' style=\"color: black;\">7.{asideBox_all_titles[6]}</a>\n",
    "            </ul>\n",
    "            <ul>\n",
    "                <a href='{asideBox_hrefs[7]}' style=\"color: black;\">8.{asideBox_all_titles[7]}</a>\n",
    "            </ul>\n",
    "            <ul>\n",
    "                <a href='{asideBox_hrefs[8]}' style=\"color: black;\">9.{asideBox_all_titles[8]}</a>\n",
    "            </ul>\n",
    "            <ul>\n",
    "                <a href='{asideBox_hrefs[9]}' style=\"color: black;\">10.{asideBox_all_titles[9]}</a>\n",
    "            </ul>''')\n",
    "file.close()\n"
   ]
  },
  {
   "cell_type": "code",
   "execution_count": 53,
   "metadata": {},
   "outputs": [
    {
     "name": "stdout",
     "output_type": "stream",
     "text": [
      "오늘\n",
      "내일\n",
      "토\n",
      "---------------------\n",
      "9.15.\n",
      "9.16.\n",
      "9.17.\n",
      "---------------------\n",
      "오전 0%  맑음    오후 10%  구름많음\n",
      "60%  구름많고 한때 비    60%  흐리고 가끔 비\n",
      "30%  흐림    30%  구름많음\n",
      "---------------------\n",
      "최저기온21° / 최고기온30°\n",
      "최저기온22° / 최고기온29°\n",
      "최저기온22° / 최고기온29°\n",
      "---------------------\n"
     ]
    }
   ],
   "source": [
    "#날씨 크롤링\n",
    "weather_url = 'https://search.naver.com/search.naver?where=nexearch&sm=top_hty&fbm=1&ie=utf8&query=%EB%82%A0%EC%94%A8'\n",
    "weather_res = requests.get(weather_url)\n",
    "soup= BeautifulSoup(weather_res.text, 'html.parser')\n",
    "weather_box = soup.find_all('div', class_=\"list_box _weekly_weather\")\n",
    "weather_today_daylist = []\n",
    "weather_today_numdaylist = []\n",
    "weather_like_todayresultslist = []\n",
    "weather_today_temlist=[]\n",
    "for weather_todays in weather_box:\n",
    "    weather_today=weather_todays.select('ul > li > div > div.cell_date > span > strong')\n",
    "    for weather_today_day in weather_today[0:3]:\n",
    "        weather_today_daylist.append(weather_today_day.text)\n",
    "print('---------------------')\n",
    "for weather_today_num in weather_box:\n",
    "    weather_today_numdays=weather_today_num.select('ul > li > div > div.cell_date > span > span')\n",
    "    for weather_today_numday in weather_today_numdays[0:3]:\n",
    "        weather_today_numdaylist.append(weather_today_numday.text)\n",
    "print('---------------------')\n",
    "for weather_likes in weather_box:\n",
    "    weather_like = weather_likes.select('ul > li > div > div.cell_weather')\n",
    "    for weather_like_todayresults in weather_like[0:3]:\n",
    "        weather_like_todayresultslist.append(weather_like_todayresults.text.strip())\n",
    "print('---------------------')\n",
    "for weather_tems in weather_box:\n",
    "    weather_today_tems = weather_tems.select('ul > li > div > div.cell_temperature > span')\n",
    "    for weather_today_tem in weather_today_tems[0:3]:\n",
    "        weather_today_temlist.append(weather_today_tem.text.strip())\n",
    "print('---------------------')\n",
    "\n"
   ]
  },
  {
   "cell_type": "code",
   "execution_count": 6,
   "metadata": {},
   "outputs": [
    {
     "data": {
      "text/plain": [
       "'오늘 9.15.      오전 0%  맑음    오후 10%  구름많음     최저기온21° / 최고기온30°'"
      ]
     },
     "execution_count": 6,
     "metadata": {},
     "output_type": "execute_result"
    }
   ],
   "source": [
    "weather_box_1 = soup.find_all('li', class_=\"week_item today\")\n",
    "weather_box_1[0].text.strip()"
   ]
  },
  {
   "cell_type": "code",
   "execution_count": 55,
   "metadata": {},
   "outputs": [
    {
     "name": "stdout",
     "output_type": "stream",
     "text": [
      "토\n"
     ]
    }
   ],
   "source": [
    "print(weather_today_day.text)"
   ]
  },
  {
   "cell_type": "code",
   "execution_count": null,
   "metadata": {},
   "outputs": [],
   "source": []
  }
 ],
 "metadata": {
  "kernelspec": {
   "display_name": "Python 3.10.4 ('study')",
   "language": "python",
   "name": "python3"
  },
  "language_info": {
   "codemirror_mode": {
    "name": "ipython",
    "version": 3
   },
   "file_extension": ".py",
   "mimetype": "text/x-python",
   "name": "python",
   "nbconvert_exporter": "python",
   "pygments_lexer": "ipython3",
   "version": "3.10.4"
  },
  "orig_nbformat": 4,
  "vscode": {
   "interpreter": {
    "hash": "37119a116a45c2243008a0e89dda34bbd2ff7fcda6a8d95159bf2d6b525d3e84"
   }
  }
 },
 "nbformat": 4,
 "nbformat_minor": 2
}
