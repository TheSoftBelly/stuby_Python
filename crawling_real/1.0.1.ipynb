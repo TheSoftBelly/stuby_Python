{
 "cells": [
  {
   "cell_type": "code",
   "execution_count": 2,
   "metadata": {},
   "outputs": [],
   "source": [
    "import requests\n",
    "from bs4 import BeautifulSoup\n",
    "\n",
    "BASE_URL = 'https://www.thebell.co.kr/free/content/article.asp?page=1&svccode=00'\n",
    "res = requests.get(BASE_URL)\n",
    "soup= BeautifulSoup(res.text , 'html.parser')\n",
    "asideBox = soup.select('#contents > div.contentSection > div > div.asideBox > div.bestBox.tp2 > div > ul > li > ul > li > a')\n",
    "asideBox_all_titles=[]\n",
    "asideBox_hrefs = []\n",
    "asideBox_results = []\n",
    "asideBox_call_hrefs = soup.find_all('a', class_='txtE')\n",
    "for asideBox_href in asideBox_call_hrefs:\n",
    "    asideBox_hrefs.append('https://www.thebell.co.kr/'+asideBox_href.attrs['href'])\n",
    "for asideBox_title in asideBox:\n",
    "    asideBox_titles=asideBox_title.text.strip()\n",
    "    asideBox_all_titles.append(asideBox_titles)\n",
    "for asideBox_num in range(1,11):\n",
    "    asideBox_result={'순위':asideBox_num,'제목':asideBox_all_titles[asideBox_num-1], '링크':asideBox_hrefs[asideBox_num-1]}\n",
    "    asideBox_results.append(asideBox_result)\n"
   ]
  },
  {
   "cell_type": "code",
   "execution_count": 3,
   "metadata": {},
   "outputs": [
    {
     "data": {
      "text/plain": [
       "['https://www.thebell.co.kr//free/Content/ArticleView.asp?key=202209131358485200104564',\n",
       " 'https://www.thebell.co.kr//free/Content/ArticleView.asp?key=202209081230572680101141',\n",
       " 'https://www.thebell.co.kr//free/Content/ArticleView.asp?key=202209072316325360101429',\n",
       " 'https://www.thebell.co.kr//free/Content/ArticleView.asp?key=202209071456143240102538',\n",
       " 'https://www.thebell.co.kr//free/Content/ArticleView.asp?key=202209061025474480107616',\n",
       " 'https://www.thebell.co.kr//free/Content/ArticleView.asp?key=202209061740168120101464',\n",
       " 'https://www.thebell.co.kr//free/Content/ArticleView.asp?key=202209081054142440109079',\n",
       " 'https://www.thebell.co.kr//free/Content/ArticleView.asp?key=202209070111187390106569',\n",
       " 'https://www.thebell.co.kr//free/Content/ArticleView.asp?key=202209051624369640107487',\n",
       " 'https://www.thebell.co.kr//free/Content/ArticleView.asp?key=202209061557119880103372']"
      ]
     },
     "execution_count": 3,
     "metadata": {},
     "output_type": "execute_result"
    }
   ],
   "source": [
    "asideBox_hrefs = []\n",
    "asideBox_call_hrefs = soup.find_all('a', class_='txtE')\n",
    "for asideBox_href in asideBox_call_hrefs:\n",
    "    asideBox_hrefs.append('https://www.thebell.co.kr/'+asideBox_href.attrs['href'])\n",
    "asideBox_hrefs\n"
   ]
  },
  {
   "cell_type": "code",
   "execution_count": 20,
   "metadata": {},
   "outputs": [
    {
     "name": "stdout",
     "output_type": "stream",
     "text": [
      "True\n"
     ]
    }
   ],
   "source": [
    "\n",
    "import os\n",
    "print(os.path.isfile(\"html_test.html\"))\n",
    "\n",
    "file = open('html_test.html','w',encoding='UTF-8')\n",
    "\n",
    "file.write(f'''<div style=\"background-color: linen; padding-bottom: 15%;\">\n",
    "    <div style=\"font-size: -webkit-xxx-large; text-align: center; color: #ff2222; padding-top: 5%;padding-bottom: 5%;\">오늘의 뉴스</div>\n",
    "         <a href=\"https://search.naver.com/search.naver?where=nexearch&sm=top_hty&fbm=1&ie=utf8&query=%EB%82%A0%EC%94%A8\" style=\"display: block;text-align: -webkit-center;padding-top: 15px;padding-bottom: 15px; color: black;\">오늘의 날씨</a>\n",
    "        {weather_box_result}\n",
    "        <table style=\"padding:15px 0px 15px 0px;border:0;width:100%;height:0;background:none;border-top-width:1px;border-top-style:dashed;border-top-color:#c9c9c9;margin:0 0\"></table>\n",
    "        <div style=\"margin-left: 10%; padding-bottom: 30px;\" class=\"rank\">\n",
    "            <ul>\n",
    "                <a href='{asideBox_hrefs[0]}' style=\"color: black;\">1.{asideBox_all_titles[0]}</ul>\n",
    "            </ul>\n",
    "            <ul>\n",
    "                <a href='{asideBox_hrefs[1]}' style=\"color: black;\">2.{asideBox_all_titles[1]}</ul>\n",
    "            </ul>\n",
    "            <ul>\n",
    "                <a href='{asideBox_hrefs[2]}' style=\"color: black;\">3.{asideBox_all_titles[2]}</ul>\n",
    "            </ul>\n",
    "            <ul>\n",
    "                <a href='{asideBox_hrefs[3]}' style=\"color: black;\">4.{asideBox_all_titles[3]}</a>\n",
    "            </ul>\n",
    "            <ul>\n",
    "                <a href='{asideBox_hrefs[4]}' style=\"color: black;\">5.{asideBox_all_titles[4]}</a>\n",
    "            </ul>\n",
    "            <ul>\n",
    "                <a href='{asideBox_hrefs[5]}' style=\"color: black;\">6.{asideBox_all_titles[5]}</a>\n",
    "            </ul>\n",
    "            <ul>\n",
    "                <a href='{asideBox_hrefs[6]}' style=\"color: black;\">7.{asideBox_all_titles[6]}</a>\n",
    "            </ul>\n",
    "            <ul>\n",
    "                <a href='{asideBox_hrefs[7]}' style=\"color: black;\">8.{asideBox_all_titles[7]}</a>\n",
    "            </ul>\n",
    "            <ul>\n",
    "                <a href='{asideBox_hrefs[8]}' style=\"color: black;\">9.{asideBox_all_titles[8]}</a>\n",
    "            </ul>\n",
    "            <ul>\n",
    "                <a href='{asideBox_hrefs[9]}' style=\"color: black;\">10.{asideBox_all_titles[9]}</a>\n",
    "            </ul>''')\n",
    "file.close()\n"
   ]
  },
  {
   "cell_type": "code",
   "execution_count": 27,
   "metadata": {},
   "outputs": [
    {
     "data": {
      "text/plain": [
       "<div class=\"day_data\"> <div class=\"cell_date\"> <span class=\"date_inner\"> <strong class=\"day\">오늘</strong> <span class=\"date\">9.14.</span> </span> </div> <div class=\"cell_weather\"> <span class=\"weather_inner\"> <span class=\"weather_left\"> <strong class=\"time\">오전</strong> <span class=\"rainfall\">60%</span> </span> <i class=\"wt_icon ico_wt22\"><span class=\"blind\">흐리고 한때 비</span></i> </span> <span class=\"weather_inner\"> <span class=\"weather_left\"> <strong class=\"time\">오후</strong> <span class=\"rainfall\">20%</span> </span> <i class=\"wt_icon ico_wt5\"><span class=\"blind\">구름많음</span></i> </span> </div> <div class=\"cell_temperature\"> <span class=\"temperature_inner\"> <span class=\"lowest\"><span class=\"blind\">최저기온</span>21°</span> <span class=\"bar\">/</span> <span class=\"highest\"><span class=\"blind\">최고기온</span>28°</span> </span> </div> </div>"
      ]
     },
     "execution_count": 27,
     "metadata": {},
     "output_type": "execute_result"
    }
   ],
   "source": [
    "weather_url = 'https://search.naver.com/search.naver?where=nexearch&sm=top_hty&fbm=1&ie=utf8&query=%EB%82%A0%EC%94%A8'\n",
    "weather_res = requests.get(weather_url)\n",
    "soup= BeautifulSoup(weather_res.text, 'html.parser')\n",
    "weather_box = soup.find_all('div', class_='day_data')\n",
    "weather_box[0]\n"
   ]
  },
  {
   "cell_type": "code",
   "execution_count": 54,
   "metadata": {},
   "outputs": [
    {
     "data": {
      "text/plain": [
       "'오늘 9.14.      오전 60%  흐리고 한때 비    오후 20%  구름많음     최저기온21° / 최고기온28°'"
      ]
     },
     "execution_count": 54,
     "metadata": {},
     "output_type": "execute_result"
    }
   ],
   "source": [
    "weather_box_1 = soup.find_all('li', class_=\"week_item today\")\n",
    "weather_box_1[0].text.strip()"
   ]
  },
  {
   "cell_type": "code",
   "execution_count": null,
   "metadata": {},
   "outputs": [],
   "source": []
  }
 ],
 "metadata": {
  "kernelspec": {
   "display_name": "Python 3.10.4 ('study')",
   "language": "python",
   "name": "python3"
  },
  "language_info": {
   "codemirror_mode": {
    "name": "ipython",
    "version": 3
   },
   "file_extension": ".py",
   "mimetype": "text/x-python",
   "name": "python",
   "nbconvert_exporter": "python",
   "pygments_lexer": "ipython3",
   "version": "3.10.4"
  },
  "orig_nbformat": 4,
  "vscode": {
   "interpreter": {
    "hash": "37119a116a45c2243008a0e89dda34bbd2ff7fcda6a8d95159bf2d6b525d3e84"
   }
  }
 },
 "nbformat": 4,
 "nbformat_minor": 2
}
