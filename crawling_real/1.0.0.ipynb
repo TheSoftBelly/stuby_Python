{
 "cells": [
  {
   "cell_type": "code",
   "execution_count": 23,
   "metadata": {},
   "outputs": [
    {
     "name": "stderr",
     "output_type": "stream",
     "text": [
      "/var/folders/nb/xg__2_w16bq70b88hn469psr0000gn/T/ipykernel_4938/2286742146.py:9: DeprecationWarning: executable_path has been deprecated, please pass in a Service object\n",
      "  driver= webdriver.Chrome(chrome_path)\n"
     ]
    },
    {
     "data": {
      "text/plain": [
       "<selenium.webdriver.remote.webelement.WebElement (session=\"d611b87f0ac79d4a1907b13db946986c\", element=\"345013fa-3afb-4ea1-bd4f-2cf7c9d07899\")>"
      ]
     },
     "execution_count": 23,
     "metadata": {},
     "output_type": "execute_result"
    }
   ],
   "source": [
    "from email import header\n",
    "from lib2to3.pgen2 import driver\n",
    "import requests\n",
    "from bs4 import BeautifulSoup\n",
    "from selenium import webdriver\n",
    "from selenium.webdriver.common.by import By\n",
    "from selenium.webdriver.common.keys import Keys\n",
    "chrome_path = '/Users/joon/Desktop/Belly_package/crawling/chromedriver'\n",
    "driver= webdriver.Chrome(chrome_path)\n",
    "driver.get('https://www.thebell.co.kr/free/content/article.asp?page=1&svccode=00')\n",
    "#크롬으로 열기"
   ]
  },
  {
   "cell_type": "code",
   "execution_count": 63,
   "metadata": {},
   "outputs": [
    {
     "data": {
      "text/plain": [
       "['에코플라스틱, 현대차 美 전기차 범퍼 책임진다',\n",
       " \"[IB 프리IPO 투자성적표]지투파워, 발행사·주관사 모두 웃었다...1.5년에 '31억'\",\n",
       " '웰투시-우리PE 컨소시엄, 넥스플렉스 인수 우협 선정',\n",
       " \"비보존헬스케어, BW '일단 상환' CB는 '협의 중'\",\n",
       " \"[Company Watch]엠게임, 중국 '열혈강호' 실적 성장세에 투자 강화\",\n",
       " '혁신신약살롱 서울에도 상륙, 첫 모임 이후 10년만',\n",
       " '일진파워는 원전주가 아니다',\n",
       " '현대투자파트너스, 와이엠티 회수 시동',\n",
       " \"IB '블랙홀' 신한금융투자\",\n",
       " \"위벤처스, 753억 'WE청년메이트펀드 1호' 결성\"]"
      ]
     },
     "execution_count": 63,
     "metadata": {},
     "output_type": "execute_result"
    }
   ],
   "source": [
    "#best clicks 박스에 기사 타이틀 부분 리스트로 만들기\n",
    "asideBox=driver.find_element(By.CLASS_NAME,'bestBox.tp2')\n",
    "asideBox_titles=driver.find_elements(By.CLASS_NAME,'txtE')\n",
    "asideBox_titles_text=[]\n",
    "for asideBox_title in asideBox_titles:\n",
    "    asideBox_titles_text.append(asideBox_title.text)\n",
    "asideBox_titles_text"
   ]
  },
  {
   "cell_type": "code",
   "execution_count": 86,
   "metadata": {},
   "outputs": [
    {
     "data": {
      "text/plain": [
       "['https://www.thebell.co.kr/free/Content/ArticleView.asp?key=202209010303529940102464',\n",
       " 'https://www.thebell.co.kr/free/Content/ArticleView.asp?key=202208311330540520104966',\n",
       " 'https://www.thebell.co.kr/free/Content/ArticleView.asp?key=202209020859587380105746',\n",
       " 'https://www.thebell.co.kr/free/Content/ArticleView.asp?key=202209011129139040109115',\n",
       " 'https://www.thebell.co.kr/free/Content/ArticleView.asp?key=202209021248583920105732',\n",
       " 'https://www.thebell.co.kr/free/Content/ArticleView.asp?key=202209060821536120105186',\n",
       " 'https://www.thebell.co.kr/free/Content/ArticleView.asp?key=202209010601025500108446',\n",
       " 'https://www.thebell.co.kr/free/Content/ArticleView.asp?key=202209021520058920106614',\n",
       " 'https://www.thebell.co.kr/free/Content/ArticleView.asp?key=202208300721442240106978',\n",
       " 'https://www.thebell.co.kr/free/Content/ArticleView.asp?key=202208311234294160109315']"
      ]
     },
     "execution_count": 86,
     "metadata": {},
     "output_type": "execute_result"
    }
   ],
   "source": [
    "#링크 정보를 가진 리스트 만들기\n",
    "asideBox_href=[]\n",
    "for asideBox_link in asideBox_titles:\n",
    "    asideBox_href.append(asideBox_link.get_attribute('href'))\n",
    "asideBox_href\n"
   ]
  },
  {
   "cell_type": "code",
   "execution_count": 87,
   "metadata": {},
   "outputs": [
    {
     "data": {
      "text/plain": [
       "[{'순위': 1,\n",
       "  '제목': '에코플라스틱, 현대차 美 전기차 범퍼 책임진다',\n",
       "  '링크': 'https://www.thebell.co.kr/free/Content/ArticleView.asp?key=202209010303529940102464'},\n",
       " {'순위': 2,\n",
       "  '제목': \"[IB 프리IPO 투자성적표]지투파워, 발행사·주관사 모두 웃었다...1.5년에 '31억'\",\n",
       "  '링크': 'https://www.thebell.co.kr/free/Content/ArticleView.asp?key=202208311330540520104966'},\n",
       " {'순위': 3,\n",
       "  '제목': '웰투시-우리PE 컨소시엄, 넥스플렉스 인수 우협 선정',\n",
       "  '링크': 'https://www.thebell.co.kr/free/Content/ArticleView.asp?key=202209020859587380105746'},\n",
       " {'순위': 4,\n",
       "  '제목': \"비보존헬스케어, BW '일단 상환' CB는 '협의 중'\",\n",
       "  '링크': 'https://www.thebell.co.kr/free/Content/ArticleView.asp?key=202209011129139040109115'},\n",
       " {'순위': 5,\n",
       "  '제목': \"[Company Watch]엠게임, 중국 '열혈강호' 실적 성장세에 투자 강화\",\n",
       "  '링크': 'https://www.thebell.co.kr/free/Content/ArticleView.asp?key=202209021248583920105732'},\n",
       " {'순위': 6,\n",
       "  '제목': '혁신신약살롱 서울에도 상륙, 첫 모임 이후 10년만',\n",
       "  '링크': 'https://www.thebell.co.kr/free/Content/ArticleView.asp?key=202209060821536120105186'},\n",
       " {'순위': 7,\n",
       "  '제목': '일진파워는 원전주가 아니다',\n",
       "  '링크': 'https://www.thebell.co.kr/free/Content/ArticleView.asp?key=202209010601025500108446'},\n",
       " {'순위': 8,\n",
       "  '제목': '현대투자파트너스, 와이엠티 회수 시동',\n",
       "  '링크': 'https://www.thebell.co.kr/free/Content/ArticleView.asp?key=202209021520058920106614'},\n",
       " {'순위': 9,\n",
       "  '제목': \"IB '블랙홀' 신한금융투자\",\n",
       "  '링크': 'https://www.thebell.co.kr/free/Content/ArticleView.asp?key=202208300721442240106978'},\n",
       " {'순위': 10,\n",
       "  '제목': \"위벤처스, 753억 'WE청년메이트펀드 1호' 결성\",\n",
       "  '링크': 'https://www.thebell.co.kr/free/Content/ArticleView.asp?key=202208311234294160109315'}]"
      ]
     },
     "execution_count": 87,
     "metadata": {},
     "output_type": "execute_result"
    }
   ],
   "source": [
    "# 순위,제목,링크 리스트 만들기\n",
    "asideBox_Box=[]\n",
    "for i in range(len(asideBox_titles_text)):\n",
    "    asideBox_Box.append({'순위':i+1,'제목':asideBox_titles_text[i],'링크':asideBox_href[i]})\n",
    "asideBox_Box"
   ]
  },
  {
   "cell_type": "code",
   "execution_count": 100,
   "metadata": {},
   "outputs": [
    {
     "ename": "ValueError",
     "evalue": "invalid literal for int() with base 10: ''",
     "output_type": "error",
     "traceback": [
      "\u001b[0;31m---------------------------------------------------------------------------\u001b[0m",
      "\u001b[0;31mValueError\u001b[0m                                Traceback (most recent call last)",
      "\u001b[1;32m/Users/joon/Desktop/Belly_package/crawling_real/1.0.0.ipynb 셀 5\u001b[0m in \u001b[0;36m<cell line: 21>\u001b[0;34m()\u001b[0m\n\u001b[1;32m     <a href='vscode-notebook-cell:/Users/joon/Desktop/Belly_package/crawling_real/1.0.0.ipynb#W3sZmlsZQ%3D%3D?line=18'>19</a>\u001b[0m     \u001b[39mreturn\u001b[39;00m \u001b[39mTrue\u001b[39;00m\n\u001b[1;32m     <a href='vscode-notebook-cell:/Users/joon/Desktop/Belly_package/crawling_real/1.0.0.ipynb#W3sZmlsZQ%3D%3D?line=20'>21</a>\u001b[0m \u001b[39mwhile\u001b[39;00m \u001b[39mTrue\u001b[39;00m:\n\u001b[0;32m---> <a href='vscode-notebook-cell:/Users/joon/Desktop/Belly_package/crawling_real/1.0.0.ipynb#W3sZmlsZQ%3D%3D?line=21'>22</a>\u001b[0m     a \u001b[39m=\u001b[39m \u001b[39mint\u001b[39;49m(\u001b[39minput\u001b[39;49m(\u001b[39m\"\u001b[39;49m\u001b[39m가위(1), 바위(2), 보(3) 을 입력해주세요 : \u001b[39;49m\u001b[39m\"\u001b[39;49m))\n\u001b[1;32m     <a href='vscode-notebook-cell:/Users/joon/Desktop/Belly_package/crawling_real/1.0.0.ipynb#W3sZmlsZQ%3D%3D?line=22'>23</a>\u001b[0m     b \u001b[39m=\u001b[39m random\u001b[39m.\u001b[39mrandint(\u001b[39m1\u001b[39m,\u001b[39m3\u001b[39m)\n",
      "\u001b[0;31mValueError\u001b[0m: invalid literal for int() with base 10: ''"
     ]
    }
   ],
   "source": []
  },
  {
   "cell_type": "code",
   "execution_count": null,
   "metadata": {},
   "outputs": [],
   "source": []
  }
 ],
 "metadata": {
  "kernelspec": {
   "display_name": "Python 3.10.4 ('study')",
   "language": "python",
   "name": "python3"
  },
  "language_info": {
   "codemirror_mode": {
    "name": "ipython",
    "version": 3
   },
   "file_extension": ".py",
   "mimetype": "text/x-python",
   "name": "python",
   "nbconvert_exporter": "python",
   "pygments_lexer": "ipython3",
   "version": "3.10.4"
  },
  "orig_nbformat": 4,
  "vscode": {
   "interpreter": {
    "hash": "37119a116a45c2243008a0e89dda34bbd2ff7fcda6a8d95159bf2d6b525d3e84"
   }
  }
 },
 "nbformat": 4,
 "nbformat_minor": 2
}
