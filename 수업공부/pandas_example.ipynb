{
 "cells": [
  {
   "cell_type": "code",
   "execution_count": 1,
   "metadata": {},
   "outputs": [],
   "source": [
    "temp = [[1,4],[3,2],[0,8]]"
   ]
  },
  {
   "cell_type": "code",
   "execution_count": 2,
   "metadata": {},
   "outputs": [
    {
     "data": {
      "text/plain": [
       "[[3, 2], [1, 4], [0, 8]]"
      ]
     },
     "execution_count": 2,
     "metadata": {},
     "output_type": "execute_result"
    }
   ],
   "source": [
    "sorted(temp, key=lambda i: i[1])"
   ]
  },
  {
   "cell_type": "code",
   "execution_count": 3,
   "metadata": {},
   "outputs": [
    {
     "data": {
      "text/plain": [
       "[[0, 8], [1, 4], [3, 2]]"
      ]
     },
     "execution_count": 3,
     "metadata": {},
     "output_type": "execute_result"
    }
   ],
   "source": [
    "sorted(temp, key=lambda i: i[0])"
   ]
  },
  {
   "cell_type": "code",
   "execution_count": 4,
   "metadata": {},
   "outputs": [],
   "source": [
    "import pandas as pd\n",
    "import numpy as np"
   ]
  },
  {
   "cell_type": "code",
   "execution_count": 10,
   "metadata": {},
   "outputs": [
    {
     "data": {
      "text/plain": [
       "0    1\n",
       "1    2\n",
       "2    3\n",
       "3    4\n",
       "4    5\n",
       "dtype: int64"
      ]
     },
     "execution_count": 10,
     "metadata": {},
     "output_type": "execute_result"
    }
   ],
   "source": [
    "x = [1,2,3,4,5]\n",
    "pd.Series(x)"
   ]
  },
  {
   "cell_type": "code",
   "execution_count": 6,
   "metadata": {},
   "outputs": [
    {
     "data": {
      "text/plain": [
       "0    1\n",
       "1    2\n",
       "2    3\n",
       "3    4\n",
       "4    5\n",
       "dtype: int64"
      ]
     },
     "execution_count": 6,
     "metadata": {},
     "output_type": "execute_result"
    }
   ],
   "source": [
    "x= np.array([1,2,3,4,5])\n",
    "pd.Series(x)"
   ]
  },
  {
   "cell_type": "code",
   "execution_count": 8,
   "metadata": {},
   "outputs": [
    {
     "name": "stdout",
     "output_type": "stream",
     "text": [
      "1\n",
      "[2 3]\n",
      "[5 4 3 2 1]\n",
      "[4 5]\n",
      "[2 3 4 5 6]\n",
      "[10 20 30 40 50]\n",
      "[ 2  4  6  8 10]\n"
     ]
    }
   ],
   "source": [
    "print(x[0])\n",
    "print(x[1:3])\n",
    "print(x[::-1])\n",
    "print(x[x>3])\n",
    "print(x+1)\n",
    "print(x*10)\n",
    "print(x+x)"
   ]
  },
  {
   "cell_type": "code",
   "execution_count": 12,
   "metadata": {},
   "outputs": [
    {
     "name": "stdout",
     "output_type": "stream",
     "text": [
      "RangeIndex(start=0, stop=5, step=1)\n",
      "[1 2 3 4 5]\n"
     ]
    }
   ],
   "source": [
    "x = [1,2,3,4,5]\n",
    "x=pd.Series(x)\n",
    "print(x.index) # 인덱스 \n",
    "print(x.values) # 값"
   ]
  },
  {
   "cell_type": "code",
   "execution_count": 17,
   "metadata": {},
   "outputs": [
    {
     "name": "stdout",
     "output_type": "stream",
     "text": [
      "1\n",
      "1\n",
      "a    1\n",
      "b    2\n",
      "c    3\n",
      "d    4\n",
      "e    5\n",
      "dtype: int64\n",
      "1\n"
     ]
    }
   ],
   "source": [
    "x = [1, 2, 3, 4, 5]\n",
    "x = pd.Series(x, index=['a','b','c','d','e'])\n",
    "print(x['a']) # 명시적 인덱스접근\n",
    "print(x[0]) # 묵시적 인덱스접근 \n",
    "print(x['a':'e']) # 팬시색인, 한번에 여러값 접근 \n",
    "print(x.a) # 또다른 접근방법"
   ]
  },
  {
   "cell_type": "code",
   "execution_count": 19,
   "metadata": {},
   "outputs": [
    {
     "data": {
      "text/plain": [
       "수학    90\n",
       "영어    80\n",
       "과학    95\n",
       "미술    80\n",
       "dtype: int64"
      ]
     },
     "execution_count": 19,
     "metadata": {},
     "output_type": "execute_result"
    }
   ],
   "source": [
    "x = {\"수학\":90, \"영어\":80, \"과학\":95, \"미술\":80} \n",
    "x = pd.Series(x)\n",
    "x"
   ]
  },
  {
   "cell_type": "code",
   "execution_count": 20,
   "metadata": {},
   "outputs": [
    {
     "data": {
      "text/plain": [
       "수학    90\n",
       "영어    80\n",
       "과학    95\n",
       "dtype: int64"
      ]
     },
     "execution_count": 20,
     "metadata": {},
     "output_type": "execute_result"
    }
   ],
   "source": [
    "x = pd.Series(x, index=[\"수학\", \"영어\", \"과학\"])\n"
   ]
  },
  {
   "cell_type": "code",
   "execution_count": 25,
   "metadata": {},
   "outputs": [
    {
     "name": "stdout",
     "output_type": "stream",
     "text": [
      "90\n"
     ]
    }
   ],
   "source": [
    "print(x['수학'])"
   ]
  },
  {
   "cell_type": "code",
   "execution_count": 34,
   "metadata": {},
   "outputs": [
    {
     "name": "stdout",
     "output_type": "stream",
     "text": [
      "[90, 80, 95, 80, 70, 90, 100, 70]\n",
      "홍길동  수학     90\n",
      "     영어     80\n",
      "     과학     95\n",
      "     미술     80\n",
      "이몽룡  수학     70\n",
      "     영어     90\n",
      "     과학    100\n",
      "     미술     70\n",
      "dtype: int64\n"
     ]
    }
   ],
   "source": [
    "student_1 = {\"수학\": 90, \"영어\": 80, \"과학\": 95, \"미술\": 80} \n",
    "student_2 = {\"수학\": 70, \"영어\": 90, \"과학\": 100, \"미술\": 70}\n",
    "\n",
    "index_1 = ['홍길동' for i in range(len(student_1))] + ['이몽룡' for i in range(len(student_2))]\n",
    "#['홍길동', '홍길동', '홍길동', '홍길동', '이몽룡', '이몽룡', '이몽룡', '이몽룡']\n",
    "index_2 = [i for i in student_1] + [i for i in student_2]\n",
    "#['수학', '영어', '과학', '미술', '수학', '영어', '과학', '미술']\n",
    "value_all = list(student_1.values()) + list(student_2.values()) \n",
    "students = pd.Series(value_all, index=[index_1, index_2])\n",
    "print(value_all)\n",
    "print(students)\n"
   ]
  },
  {
   "cell_type": "code",
   "execution_count": 30,
   "metadata": {},
   "outputs": [
    {
     "data": {
      "text/plain": [
       "['홍길동', '홍길동', '홍길동', '홍길동', '이몽룡', '이몽룡', '이몽룡', '이몽룡']"
      ]
     },
     "execution_count": 30,
     "metadata": {},
     "output_type": "execute_result"
    }
   ],
   "source": [
    "['홍길동' for i in range(len(student_1))] + ['이몽룡' for i in range(len(student_2))]"
   ]
  },
  {
   "cell_type": "code",
   "execution_count": 32,
   "metadata": {},
   "outputs": [
    {
     "data": {
      "text/plain": [
       "['수학', '영어', '과학', '미술', '수학', '영어', '과학', '미술']"
      ]
     },
     "execution_count": 32,
     "metadata": {},
     "output_type": "execute_result"
    }
   ],
   "source": [
    "[key for key in student_1]+[i for i in student_2]"
   ]
  },
  {
   "cell_type": "code",
   "execution_count": 35,
   "metadata": {},
   "outputs": [
    {
     "data": {
      "text/plain": [
       "수학    90\n",
       "영어    80\n",
       "과학    95\n",
       "미술    80\n",
       "dtype: int64"
      ]
     },
     "execution_count": 35,
     "metadata": {},
     "output_type": "execute_result"
    }
   ],
   "source": [
    "students['홍길동']"
   ]
  },
  {
   "cell_type": "code",
   "execution_count": 36,
   "metadata": {},
   "outputs": [
    {
     "data": {
      "text/plain": [
       "수학     70\n",
       "영어     90\n",
       "과학    100\n",
       "미술     70\n",
       "dtype: int64"
      ]
     },
     "execution_count": 36,
     "metadata": {},
     "output_type": "execute_result"
    }
   ],
   "source": [
    "students['이몽룡']"
   ]
  },
  {
   "cell_type": "code",
   "execution_count": 3,
   "metadata": {},
   "outputs": [
    {
     "name": "stdout",
     "output_type": "stream",
     "text": [
      "Collecting folium\n",
      "  Downloading folium-0.12.1.post1-py2.py3-none-any.whl (95 kB)\n",
      "\u001b[2K     \u001b[90m━━━━━━━━━━━━━━━━━━━━━━━━━━━━━━━━━━━━━━━━\u001b[0m \u001b[32m95.0/95.0 kB\u001b[0m \u001b[31m3.2 MB/s\u001b[0m eta \u001b[36m0:00:00\u001b[0m\n",
      "\u001b[?25hCollecting branca>=0.3.0\n",
      "  Downloading branca-0.5.0-py3-none-any.whl (24 kB)\n",
      "Requirement already satisfied: numpy in /Users/joon/opt/anaconda3/envs/study/lib/python3.10/site-packages (from folium) (1.23.2)\n",
      "Requirement already satisfied: requests in /Users/joon/opt/anaconda3/envs/study/lib/python3.10/site-packages (from folium) (2.28.1)\n",
      "Collecting jinja2>=2.9\n",
      "  Using cached Jinja2-3.1.2-py3-none-any.whl (133 kB)\n",
      "Collecting MarkupSafe>=2.0\n",
      "  Using cached MarkupSafe-2.1.1-cp310-cp310-macosx_10_9_universal2.whl (17 kB)\n",
      "Requirement already satisfied: certifi>=2017.4.17 in /Users/joon/opt/anaconda3/envs/study/lib/python3.10/site-packages (from requests->folium) (2022.6.15)\n",
      "Requirement already satisfied: charset-normalizer<3,>=2 in /Users/joon/opt/anaconda3/envs/study/lib/python3.10/site-packages (from requests->folium) (2.1.1)\n",
      "Requirement already satisfied: idna<4,>=2.5 in /Users/joon/opt/anaconda3/envs/study/lib/python3.10/site-packages (from requests->folium) (3.3)\n",
      "Requirement already satisfied: urllib3<1.27,>=1.21.1 in /Users/joon/opt/anaconda3/envs/study/lib/python3.10/site-packages (from requests->folium) (1.26.12)\n",
      "Installing collected packages: MarkupSafe, jinja2, branca, folium\n",
      "Successfully installed MarkupSafe-2.1.1 branca-0.5.0 folium-0.12.1.post1 jinja2-3.1.2\n",
      "Note: you may need to restart the kernel to use updated packages.\n"
     ]
    }
   ],
   "source": [
    "%pip install folium"
   ]
  },
  {
   "cell_type": "code",
   "execution_count": 4,
   "metadata": {},
   "outputs": [],
   "source": [
    "import folium\n",
    "\n",
    "seoul_map = folium.Map(location=[37.55,126.98], zoom_start=12)\n",
    "seoul_map.save('./seoul.html')"
   ]
  },
  {
   "cell_type": "code",
   "execution_count": 7,
   "metadata": {},
   "outputs": [],
   "source": [
    "import pandas as pd\n",
    "import folium\n",
    "\n",
    "df = pd.read_excel('./서울지역 대학교 위치.xlsx')\n",
    "seoul_map = folium.Map(location=[37.55,126.98], zoom_start=12)\n",
    "\n",
    "for name, lat, lng in zip(df.대학명, df.위도, df.경도):\n",
    "    folium.Marker([lat,lng], popup=name).add_to(seoul_map)\n",
    "\n",
    "seoul_map.save('./seoul_colleges.html')"
   ]
  },
  {
   "cell_type": "code",
   "execution_count": 10,
   "metadata": {},
   "outputs": [],
   "source": [
    "import pandas as pd\n",
    "import folium\n",
    "import json\n",
    "\n",
    "file_path = './경기도인구데이터.xlsx'\n",
    "df = pd.read_excel(file_path, index_col='구분')\n",
    "df.columns = df.columns.map(str)\n",
    "\n",
    "geo_path = './경기도행정구역경계.json'\n",
    "try:\n",
    "    geo_data = json.load(open(geo_path, encoding='utf-8'))\n",
    "except:\n",
    "    geo_data = json.load(open(geo_path, encoding='utf-8-sig'))\n",
    "\n",
    "g_map = folium.Map(location=[37.5502,126.982], tiles='Stamen Terrain', zoom_start=9)\n",
    "\n",
    "year = '2007'\n",
    "\n",
    "folium.Choropleth(geo_data=geo_data,\n",
    "                data = df[year],\n",
    "                columns=[df.index,df[year]],\n",
    "                fill_color='YlOrRd', fill_opacity=0.7, line_opacity=0.3,\n",
    "                threshold_scale=[10000,100000,300000,500000,700000],\n",
    "                key_on='feature.properties.name',\n",
    "                ).add_to(g_map)\n",
    "\n",
    "g_map.save('./gyonggi_population_' + year + '.html')\n"
   ]
  },
  {
   "cell_type": "code",
   "execution_count": null,
   "metadata": {},
   "outputs": [],
   "source": []
  }
 ],
 "metadata": {
  "kernelspec": {
   "display_name": "Python 3.10.4 ('study')",
   "language": "python",
   "name": "python3"
  },
  "language_info": {
   "codemirror_mode": {
    "name": "ipython",
    "version": 3
   },
   "file_extension": ".py",
   "mimetype": "text/x-python",
   "name": "python",
   "nbconvert_exporter": "python",
   "pygments_lexer": "ipython3",
   "version": "3.10.4"
  },
  "orig_nbformat": 4,
  "vscode": {
   "interpreter": {
    "hash": "37119a116a45c2243008a0e89dda34bbd2ff7fcda6a8d95159bf2d6b525d3e84"
   }
  }
 },
 "nbformat": 4,
 "nbformat_minor": 2
}
