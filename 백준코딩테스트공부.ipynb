{
 "cells": [
  {
   "cell_type": "code",
   "execution_count": null,
   "metadata": {},
   "outputs": [],
   "source": [
    "#백준 9498번\n",
    "\n",
    "score=int(input())\n",
    "if score>=90:\n",
    "    print(\"A\")\n",
    "elif score>=80 and score<90:\n",
    "    print(\"B\")\n",
    "elif score>=70 and score<80:\n",
    "    print(\"C\")\n",
    "elif score>=60 and score<70:\n",
    "    print(\"D\")\n",
    "else:\n",
    "    print(\"F\")"
   ]
  },
  {
   "cell_type": "code",
   "execution_count": null,
   "metadata": {},
   "outputs": [],
   "source": [
    "#백준 2753번\n",
    "\n",
    "year=int(input())\n",
    "\n",
    "if year%4==0 and year%100 != 0:\n",
    "    print(1)\n",
    "elif year%400 == 0:\n",
    "    print(1)\n",
    "else:\n",
    "    print(0)"
   ]
  },
  {
   "cell_type": "code",
   "execution_count": null,
   "metadata": {},
   "outputs": [],
   "source": [
    "#백준 14681번\n",
    "\n",
    "x_value = int(input())\n",
    "y_value = int(input())\n",
    "\n",
    "if x_value>0 and y_value>0:\n",
    "    print(1)\n",
    "elif x_value<0 and y_value>0:\n",
    "    print(2)\n",
    "elif x_value<0 and y_value<0:\n",
    "    print(3)\n",
    "else:\n",
    "    print(4)"
   ]
  },
  {
   "cell_type": "code",
   "execution_count": null,
   "metadata": {},
   "outputs": [],
   "source": [
    "#백준 2884번\n",
    "h,m = map(int,input().split())\n",
    "\n",
    "if h ==0 and m <45:\n",
    "    print(23,m+15)\n",
    "elif h ==0 and m >=45:\n",
    "    print(23,m-45)\n",
    "elif h != 0 and m < 45:\n",
    "    print(h-1,m+15)\n",
    "elif h != 0 and m >= 45:\n",
    "    print(h-1,m-45)"
   ]
  }
 ],
 "metadata": {
  "kernelspec": {
   "display_name": "Python 3.10.6 64-bit ('3.10.6')",
   "language": "python",
   "name": "python3"
  },
  "language_info": {
   "name": "python",
   "version": "3.10.6"
  },
  "orig_nbformat": 4,
  "vscode": {
   "interpreter": {
    "hash": "328d8a8cb34b92d1a42263b7c7b62c848ce87f3550b3b85481118d11e8ea6f01"
   }
  }
 },
 "nbformat": 4,
 "nbformat_minor": 2
}
