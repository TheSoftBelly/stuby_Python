{
 "cells": [
  {
   "cell_type": "code",
   "execution_count": 134,
   "metadata": {},
   "outputs": [
    {
     "name": "stderr",
     "output_type": "stream",
     "text": [
      "/var/folders/nb/xg__2_w16bq70b88hn469psr0000gn/T/ipykernel_2705/47301768.py:6: DeprecationWarning: executable_path has been deprecated, please pass in a Service object\n",
      "  driver = webdriver.Chrome(chrome_path)\n"
     ]
    }
   ],
   "source": [
    "from selenium import webdriver\n",
    "from selenium.webdriver.common.by import By\n",
    "from selenium.webdriver.common.keys import Keys\n",
    "#chrome_path = '현재 크롬경로 위치'\n",
    "chrome_path = '/Users/joon/Desktop/Belly_package/crawling/chromedriver'\n",
    "driver = webdriver.Chrome(chrome_path)"
   ]
  },
  {
   "cell_type": "code",
   "execution_count": 84,
   "metadata": {},
   "outputs": [],
   "source": [
    "driver.get('https://www.jungle.co.kr/')"
   ]
  },
  {
   "cell_type": "code",
   "execution_count": 85,
   "metadata": {},
   "outputs": [],
   "source": [
    "element=driver.find_element(By.CLASS_NAME, 'thumb_list')"
   ]
  },
  {
   "cell_type": "code",
   "execution_count": 86,
   "metadata": {},
   "outputs": [
    {
     "data": {
      "text/plain": [
       "'[디자인 포커스] 세르주 무이와 박서보의 만남\\n매거진\\n[디자인 이슈] 런웨이 통해 관람객에게 다가가는 전시 플랫폼 ‘써킷 서울’\\n매거진\\n시계가 아닌 시간을 보는 방법\\n매거진\\n테디 베어에서 영감받은 엑소 카이와 구찌의 컬래버레이션 \\n매거진\\n김묵원 라이브드로잉아트 전시 <유리사람> 展 09. 01. 수. ~ 09. 05. 일. 광명시민회관 전시실\\n전시행사\\n현대 블루 프라이즈 디자인 2022\\n공모전'"
      ]
     },
     "execution_count": 86,
     "metadata": {},
     "output_type": "execute_result"
    }
   ],
   "source": [
    "element.text"
   ]
  },
  {
   "cell_type": "code",
   "execution_count": 87,
   "metadata": {},
   "outputs": [
    {
     "data": {
      "text/plain": [
       "\"[디자인 포커스] 세르주 무이와 박서보의 만남\\n매거진\\n[디자인 이슈] 런웨이 통해 관람객에게 다가가는 전시 플랫폼 ‘써킷 서울’\\n매거진\\n시계가 아닌 시간을 보는 방법\\n매거진\\n테디 베어에서 영감받은 엑소 카이와 구찌의 컬래버레이션 \\n매거진\\n김묵원 라이브드로잉아트 전시 <유리사람> 展 09. 01. 수. ~ 09. 05. 일. 광명시민회관 전시실\\n전시행사\\n현대 블루 프라이즈 디자인 2022\\n공모전\\n아트램프, 디지털 아트 전시 ‘Nature’s Care’ 개최\\n매거진\\nKMI한국의학연구소, 검진 정보 인스타그램서 확인 가능한 ‘인스타툰’ 제작\\n매거진\\n공진원, ‘타이포잔치 사이사이 2022-2023’ 개최\\n매거진\\n공진원, 10월에 ‘공공디자인 페스티벌’ 개최\\n매거진\\n콘진원, ‘우리동네 캐릭터 대상’ 대국민 투표 시작\\n매거진\\n[미니인턴X팀와이퍼] 2주만에 '디자이너' 실무 역량 쌓고 채용연계까지? 미니인턴 지금 신\\n공모전\\n더보기 ▼\""
      ]
     },
     "execution_count": 87,
     "metadata": {},
     "output_type": "execute_result"
    }
   ],
   "source": [
    "elements= driver.find_elements(By.CLASS_NAME, 'container_main')\n",
    "elements[0].text"
   ]
  },
  {
   "cell_type": "code",
   "execution_count": 92,
   "metadata": {},
   "outputs": [],
   "source": [
    "import time\n",
    "\n",
    "for i in range(1,6):\n",
    "    if len(jungle_result)//12 != i:\n",
    "        for element in elements:\n",
    "            jungle_result=[]\n",
    "        #print(element.text)\n",
    "            jungle_result.append(element.text.strip())\n",
    "            driver.execute_script(\"window.scrollTo(0,document.body.scrollHeight);\")\n",
    "            more=driver.find_element(By.CLASS_NAME,'more')\n",
    "         \n",
    "            more.click()\n",
    "            time.sleep(1)\n",
    "    else:\n",
    "        pass\n",
    "\n"
   ]
  },
  {
   "cell_type": "code",
   "execution_count": 93,
   "metadata": {},
   "outputs": [
    {
     "data": {
      "text/plain": [
       "[\"[디자인 포커스] 세르주 무이와 박서보의 만남\\n매거진\\n[디자인 이슈] 런웨이 통해 관람객에게 다가가는 전시 플랫폼 ‘써킷 서울’\\n매거진\\n시계가 아닌 시간을 보는 방법\\n매거진\\n테디 베어에서 영감받은 엑소 카이와 구찌의 컬래버레이션 \\n매거진\\n김묵원 라이브드로잉아트 전시 <유리사람> 展 09. 01. 수. ~ 09. 05. 일. 광명시민회관 전시실\\n전시행사\\n현대 블루 프라이즈 디자인 2022\\n공모전\\n아트램프, 디지털 아트 전시 ‘Nature’s Care’ 개최\\n매거진\\nKMI한국의학연구소, 검진 정보 인스타그램서 확인 가능한 ‘인스타툰’ 제작\\n매거진\\n공진원, ‘타이포잔치 사이사이 2022-2023’ 개최\\n매거진\\n공진원, 10월에 ‘공공디자인 페스티벌’ 개최\\n매거진\\n콘진원, ‘우리동네 캐릭터 대상’ 대국민 투표 시작\\n매거진\\n[미니인턴X팀와이퍼] 2주만에 '디자이너' 실무 역량 쌓고 채용연계까지? 미니인턴 지금 신\\n공모전\\n[월간 프리스쿨] 공식 서포터즈 5기 모집\\n공모전\\n케이쉴드 주니어 9기 모집\\n공모전\\n삼성금융네트웍스 금융사 공동 메타버스 채용 설명회\\n공모전\\n[디자인 이슈] 203인포그래픽연구소, 국제 인포그래픽 어워드에서 연속 수상\\n매거진\\n2022 프랜즈 식품 아이디어 공모전\\n공모전\\n인터넷에코어워드 2022\\n공모전\\n2022 점촌점빵길 유튜브 공모전\\n공모전\\n웹어워드코리아 2022\\n공모전\\n2022 경제안보 크리에이티브 콘텐츠·아이디어 어워즈\\n공모전\\n제 18회 서울와우북페스티벌 자원활동가 <리더스> 모집\\n공모전\\n2022 경북 구곡길 라디엔티어링 페스티벌\\n공모전\\n제 1회 Our Fair 공동 졸업전시회 참여 작가 공모\\n공모전\\n360 헥사월드로 만드는 2030 BUSAN EXPO Ⅰ\\n공모전\\n옴사, 고대 징표 ‘함사’를 현대적으로 재해석한 NFT 1만3800개 발행\\n매거진\\n투썸플레이스, 크렘드마롱 협업 ‘가토 마롱’ 선물세트 출시\\n매거진\\n부천시, 관광브랜드 이미지 ‘하트비트부천’ EI 상표출원 \\n매거진\\n삼성전자, 버추얼 아바타 ‘지누스마스(G∙NUSMAS)’ 공개\\n매거진\\n신한플레이 뮤지컬 라운지, ‘레드닷 디자인 어워드’ 수상\\n매거진\\n에버렌, 새로운 브랜드 비주얼 아이덴티티 공개\\n매거진\\n개그맨 김준호가 개발한 캐릭터 ‘마쭈’, 골프 브랜드 ‘마쭈골프’로 론칭\\n매거진\\n‘고스티’, 일러스트레이터 3인과 협업 컬렉션 공개\\n매거진\\n이마트24X김씨네과일, 젊은층의 감성과 재미를 저격한 협업 진행\\n매거진\\nXPPen, 더욱 업그레이드된 마스코트 이미지 및 신제품 시리즈 선보여\\n매거진\\n타임플릭, ‘굿디자인 어워드’서 우수디자인 선정\\n매거진\\nSSG닷컴, ‘밍글스(MINGLES)’와 전통주 큐레이션 박스 기획\\n매거진\\n스프링샤인, JDC면세점과 발달장애인 지원 프로모션 진행 ‘바다수달 굿즈’ 공개\\n매거진\\n티몬X펫루트, 반려동물간식 단독 브랜드 ‘티멍 간식을부탁해’ 출시\\n매거진\\n이마트24, 진짜 우주 다녀온 ‘바나나행성맥주’ 출시\\n매거진\\n궁녀다이어트 출시기념 UCC 공모전\\n공모전\\n[경기콘텐츠진흥원]콘텐츠+제조 해커톤\\n공모전\\n인천뮤지엄파크 조성사업 국제설계공모\\n공모전\\n2022년 음성군 블로그 공모전\\n공모전\\n1회 출판콘텐츠 공모\\n공모전\\n소규모주택정비사업 영상 · 캐릭터 · 슬로건 공모전\\n공모전\\n2022년 경기도일자리재단 「IT분야 여성 취․창업 포트폴리오 공모전」\\n공모전\\n2022울산 옹기축제 주민참여형 콘텐츠 참여자 모집공고\\n공모전\\n2022년 전국 아동·청소년 만화 공모전\\n공모전\\n[추천공모전] 제21회 국립공원 사진공모전 (~9/16)\\n공모전\\n호남ICT이노베이션 대학생 기자단 모집\\n공모전\\n더 유튜버스 : 2022년 유튜버 네트워킹 캠프 l 유튜브 크리에이터 콘텐츠 대회\\n공모전\\nAI인터뷰 무료 체험 및 개인별 맞춤 진단 안내\\n공모전\\n[궁금한 인터뷰] 클래식한 디자인의 시원하고 안전한 헬멧\\n매거진\\n[추가모집]2022 세계무형문화유산포럼 랜선 서포터즈 3기 모집\\n공모전\\n[추천공모전]제2회 서울건축자산 시민공모전(9/19~9/30)\\n공모전\\n커리어 플래닝 「내가 디자인 하는 JOB」\\n공모전\\n제16회 월간<아이러브캐릭터> 캐릭터 공모전(~10/15)\\n공모전\\n2022년 동작LINK상권 2회차 아이디어경진대회\\n공모전\\n2022고양가을꽃축제 SNS 꽃포터즈 모집\\n공모전\\n대구 근대골목 관광기념품 아이디어 공모전\\n공모전\\n‘G-ART FAIR SEOUL 2022’ 서울 아트페어 오픈\\n매거진\\n카카오스타일의 '지그재그', 새로운 BI 공개\\n매거진\\n유니클로, ‘UT 그랑프리 2023’ 티셔츠 디자인 콘테스트 오픈\\n매거진\\n공진원, 신진작가 김호정 개인전 ‘포착된 풍경’ 개최\\n매거진\\n인천 대표 영화 축제 ‘인천 영화 주간 2022’, 메인 포스터 공개\\n매거진\\n더보기 ▼\"]"
      ]
     },
     "execution_count": 93,
     "metadata": {},
     "output_type": "execute_result"
    }
   ],
   "source": [
    "len(jungle_result)\n",
    "jungle_result"
   ]
  },
  {
   "cell_type": "code",
   "execution_count": 12,
   "metadata": {},
   "outputs": [],
   "source": [
    "search_bar = driver.find_element(By.ID, 'top-search-keyword')"
   ]
  },
  {
   "cell_type": "code",
   "execution_count": 14,
   "metadata": {},
   "outputs": [],
   "source": [
    "search_bar.send_keys('python')"
   ]
  },
  {
   "cell_type": "code",
   "execution_count": 15,
   "metadata": {},
   "outputs": [],
   "source": [
    "search_bar.send_keys(Keys.ENTER)"
   ]
  },
  {
   "cell_type": "code",
   "execution_count": 81,
   "metadata": {},
   "outputs": [
    {
     "ename": "NoSuchElementException",
     "evalue": "Message: no such element: Unable to locate element: {\"method\":\"css selector\",\"selector\":\".more\"}\n  (Session info: chrome=105.0.5195.52)\nStacktrace:\n0   chromedriver                        0x0000000105389a90 chromedriver + 3889808\n1   chromedriver                        0x0000000105318b54 chromedriver + 3427156\n2   chromedriver                        0x000000010500a238 chromedriver + 221752\n3   chromedriver                        0x000000010503b4c8 chromedriver + 423112\n4   chromedriver                        0x0000000105064944 chromedriver + 592196\n5   chromedriver                        0x000000010503054c chromedriver + 378188\n6   chromedriver                        0x000000010535d2f8 chromedriver + 3707640\n7   chromedriver                        0x0000000105360ea8 chromedriver + 3722920\n8   chromedriver                        0x00000001053673d8 chromedriver + 3748824\n9   chromedriver                        0x00000001053619a8 chromedriver + 3725736\n10  chromedriver                        0x000000010533cde8 chromedriver + 3575272\n11  chromedriver                        0x000000010537bd1c chromedriver + 3833116\n12  chromedriver                        0x000000010537be84 chromedriver + 3833476\n13  chromedriver                        0x0000000105390210 chromedriver + 3916304\n14  libsystem_pthread.dylib             0x00000001a62f426c _pthread_start + 148\n15  libsystem_pthread.dylib             0x00000001a62ef08c thread_start + 8\n",
     "output_type": "error",
     "traceback": [
      "\u001b[0;31m---------------------------------------------------------------------------\u001b[0m",
      "\u001b[0;31mNoSuchElementException\u001b[0m                    Traceback (most recent call last)",
      "\u001b[1;32m/Users/joon/Desktop/Belly_package/crawling/5.ipynb 셀 11\u001b[0m in \u001b[0;36m<cell line: 3>\u001b[0;34m()\u001b[0m\n\u001b[1;32m      <a href='vscode-notebook-cell:/Users/joon/Desktop/Belly_package/crawling/5.ipynb#X13sZmlsZQ%3D%3D?line=2'>3</a>\u001b[0m \u001b[39mwhile\u001b[39;00m \u001b[39mTrue\u001b[39;00m:\n\u001b[1;32m      <a href='vscode-notebook-cell:/Users/joon/Desktop/Belly_package/crawling/5.ipynb#X13sZmlsZQ%3D%3D?line=3'>4</a>\u001b[0m     driver\u001b[39m.\u001b[39mexecute_script(\u001b[39m\"\u001b[39m\u001b[39mwindow.scrollTo(0,document.body.scrollHeight);\u001b[39m\u001b[39m\"\u001b[39m)\n\u001b[0;32m----> <a href='vscode-notebook-cell:/Users/joon/Desktop/Belly_package/crawling/5.ipynb#X13sZmlsZQ%3D%3D?line=4'>5</a>\u001b[0m     more1\u001b[39m=\u001b[39mdriver\u001b[39m.\u001b[39;49mfind_element(By\u001b[39m.\u001b[39;49mCLASS_NAME,\u001b[39m'\u001b[39;49m\u001b[39mmore\u001b[39;49m\u001b[39m'\u001b[39;49m)\n\u001b[1;32m      <a href='vscode-notebook-cell:/Users/joon/Desktop/Belly_package/crawling/5.ipynb#X13sZmlsZQ%3D%3D?line=5'>6</a>\u001b[0m     more1\u001b[39m.\u001b[39mclick()\n\u001b[1;32m      <a href='vscode-notebook-cell:/Users/joon/Desktop/Belly_package/crawling/5.ipynb#X13sZmlsZQ%3D%3D?line=6'>7</a>\u001b[0m     \u001b[39mif\u001b[39;00m i \u001b[39m==\u001b[39m \u001b[39m6\u001b[39m:\n",
      "File \u001b[0;32m~/opt/anaconda3/envs/study/lib/python3.10/site-packages/selenium/webdriver/remote/webdriver.py:855\u001b[0m, in \u001b[0;36mWebDriver.find_element\u001b[0;34m(self, by, value)\u001b[0m\n\u001b[1;32m    852\u001b[0m     by \u001b[39m=\u001b[39m By\u001b[39m.\u001b[39mCSS_SELECTOR\n\u001b[1;32m    853\u001b[0m     value \u001b[39m=\u001b[39m \u001b[39m'\u001b[39m\u001b[39m[name=\u001b[39m\u001b[39m\"\u001b[39m\u001b[39m%s\u001b[39;00m\u001b[39m\"\u001b[39m\u001b[39m]\u001b[39m\u001b[39m'\u001b[39m \u001b[39m%\u001b[39m value\n\u001b[0;32m--> 855\u001b[0m \u001b[39mreturn\u001b[39;00m \u001b[39mself\u001b[39;49m\u001b[39m.\u001b[39;49mexecute(Command\u001b[39m.\u001b[39;49mFIND_ELEMENT, {\n\u001b[1;32m    856\u001b[0m     \u001b[39m'\u001b[39;49m\u001b[39musing\u001b[39;49m\u001b[39m'\u001b[39;49m: by,\n\u001b[1;32m    857\u001b[0m     \u001b[39m'\u001b[39;49m\u001b[39mvalue\u001b[39;49m\u001b[39m'\u001b[39;49m: value})[\u001b[39m'\u001b[39m\u001b[39mvalue\u001b[39m\u001b[39m'\u001b[39m]\n",
      "File \u001b[0;32m~/opt/anaconda3/envs/study/lib/python3.10/site-packages/selenium/webdriver/remote/webdriver.py:428\u001b[0m, in \u001b[0;36mWebDriver.execute\u001b[0;34m(self, driver_command, params)\u001b[0m\n\u001b[1;32m    426\u001b[0m response \u001b[39m=\u001b[39m \u001b[39mself\u001b[39m\u001b[39m.\u001b[39mcommand_executor\u001b[39m.\u001b[39mexecute(driver_command, params)\n\u001b[1;32m    427\u001b[0m \u001b[39mif\u001b[39;00m response:\n\u001b[0;32m--> 428\u001b[0m     \u001b[39mself\u001b[39;49m\u001b[39m.\u001b[39;49merror_handler\u001b[39m.\u001b[39;49mcheck_response(response)\n\u001b[1;32m    429\u001b[0m     response[\u001b[39m'\u001b[39m\u001b[39mvalue\u001b[39m\u001b[39m'\u001b[39m] \u001b[39m=\u001b[39m \u001b[39mself\u001b[39m\u001b[39m.\u001b[39m_unwrap_value(\n\u001b[1;32m    430\u001b[0m         response\u001b[39m.\u001b[39mget(\u001b[39m'\u001b[39m\u001b[39mvalue\u001b[39m\u001b[39m'\u001b[39m, \u001b[39mNone\u001b[39;00m))\n\u001b[1;32m    431\u001b[0m     \u001b[39mreturn\u001b[39;00m response\n",
      "File \u001b[0;32m~/opt/anaconda3/envs/study/lib/python3.10/site-packages/selenium/webdriver/remote/errorhandler.py:243\u001b[0m, in \u001b[0;36mErrorHandler.check_response\u001b[0;34m(self, response)\u001b[0m\n\u001b[1;32m    241\u001b[0m         alert_text \u001b[39m=\u001b[39m value[\u001b[39m'\u001b[39m\u001b[39malert\u001b[39m\u001b[39m'\u001b[39m]\u001b[39m.\u001b[39mget(\u001b[39m'\u001b[39m\u001b[39mtext\u001b[39m\u001b[39m'\u001b[39m)\n\u001b[1;32m    242\u001b[0m     \u001b[39mraise\u001b[39;00m exception_class(message, screen, stacktrace, alert_text)  \u001b[39m# type: ignore[call-arg]  # mypy is not smart enough here\u001b[39;00m\n\u001b[0;32m--> 243\u001b[0m \u001b[39mraise\u001b[39;00m exception_class(message, screen, stacktrace)\n",
      "\u001b[0;31mNoSuchElementException\u001b[0m: Message: no such element: Unable to locate element: {\"method\":\"css selector\",\"selector\":\".more\"}\n  (Session info: chrome=105.0.5195.52)\nStacktrace:\n0   chromedriver                        0x0000000105389a90 chromedriver + 3889808\n1   chromedriver                        0x0000000105318b54 chromedriver + 3427156\n2   chromedriver                        0x000000010500a238 chromedriver + 221752\n3   chromedriver                        0x000000010503b4c8 chromedriver + 423112\n4   chromedriver                        0x0000000105064944 chromedriver + 592196\n5   chromedriver                        0x000000010503054c chromedriver + 378188\n6   chromedriver                        0x000000010535d2f8 chromedriver + 3707640\n7   chromedriver                        0x0000000105360ea8 chromedriver + 3722920\n8   chromedriver                        0x00000001053673d8 chromedriver + 3748824\n9   chromedriver                        0x00000001053619a8 chromedriver + 3725736\n10  chromedriver                        0x000000010533cde8 chromedriver + 3575272\n11  chromedriver                        0x000000010537bd1c chromedriver + 3833116\n12  chromedriver                        0x000000010537be84 chromedriver + 3833476\n13  chromedriver                        0x0000000105390210 chromedriver + 3916304\n14  libsystem_pthread.dylib             0x00000001a62f426c _pthread_start + 148\n15  libsystem_pthread.dylib             0x00000001a62ef08c thread_start + 8\n"
     ]
    }
   ],
   "source": [
    "jungle_result=[]\n",
    "i=0\n",
    "while True:\n",
    "    driver.execute_script(\"window.scrollTo(0,document.body.scrollHeight);\")\n",
    "    more1=driver.find_element(By.CLASS_NAME,'more')\n",
    "    more1.click()\n",
    "    if i == 6:\n",
    "        break\n",
    "elements= driver.find_elements(By.CLASS_NAME, 'container_main')\n",
    "for element in elements:\n",
    "        #print(element.text)\n",
    "        jungle_result.append(element.text.strip())"
   ]
  },
  {
   "cell_type": "code",
   "execution_count": null,
   "metadata": {},
   "outputs": [],
   "source": []
  },
  {
   "cell_type": "code",
   "execution_count": null,
   "metadata": {},
   "outputs": [],
   "source": []
  },
  {
   "cell_type": "code",
   "execution_count": null,
   "metadata": {},
   "outputs": [],
   "source": []
  },
  {
   "cell_type": "code",
   "execution_count": null,
   "metadata": {},
   "outputs": [],
   "source": []
  },
  {
   "cell_type": "code",
   "execution_count": null,
   "metadata": {},
   "outputs": [],
   "source": []
  },
  {
   "cell_type": "code",
   "execution_count": null,
   "metadata": {},
   "outputs": [],
   "source": []
  },
  {
   "cell_type": "code",
   "execution_count": null,
   "metadata": {},
   "outputs": [],
   "source": []
  },
  {
   "cell_type": "code",
   "execution_count": 96,
   "metadata": {},
   "outputs": [],
   "source": [
    "import requests\n",
    "from bs4 import BeautifulSoup"
   ]
  },
  {
   "cell_type": "code",
   "execution_count": 135,
   "metadata": {},
   "outputs": [],
   "source": [
    "driver.get('https://www.rocketpunch.com/jobs')"
   ]
  },
  {
   "cell_type": "code",
   "execution_count": null,
   "metadata": {},
   "outputs": [],
   "source": []
  },
  {
   "cell_type": "code",
   "execution_count": 103,
   "metadata": {},
   "outputs": [],
   "source": [
    "company_list = driver.find_elements(By.CSS_SELECTOR,'.company.item')"
   ]
  },
  {
   "cell_type": "code",
   "execution_count": 109,
   "metadata": {},
   "outputs": [
    {
     "data": {
      "text/plain": [
       "34"
      ]
     },
     "execution_count": 109,
     "metadata": {},
     "output_type": "execute_result"
    }
   ],
   "source": [
    "len(company_list)"
   ]
  },
  {
   "cell_type": "code",
   "execution_count": 138,
   "metadata": {},
   "outputs": [],
   "source": [
    "\n",
    "result = []\n",
    "company_list = driver.find_elements(By.CSS_SELECTOR,'.company.item')\n",
    "for company in company_list:\n",
    "    company_name = company.find_element(By.CSS_SELECTOR,'.header.name').text.strip()\n",
    "    description = company.find_element(By.CSS_SELECTOR,'.description').text.strip()\n",
    "    \n",
    "    try:\n",
    "        more_button=company.find_element(By.CLASS_NAME,'more-jobs')\n",
    "        #driver.execute_script(\"arguments[0].scrollIntoView();\",more_button)\n",
    "\n",
    "        \n",
    "        #driver.execute_script(\"window.scrollTo(0,document.body.clientHeight-200);\")\n",
    "        \n",
    "        driver.execute_script('arguments[0].click();', more_button)\n",
    "    except:\n",
    "        pass\n",
    "    \n",
    "    job_details = company.find_elements(By.CSS_SELECTOR,'.job-detail')\n",
    "    \n",
    "    job_temps = []\n",
    "    \n",
    "    for job_detail in job_details:\n",
    "        job_title = job_detail.find_element(By.CSS_SELECTOR,'.job-title').text.strip()\n",
    "        \n",
    "        job_temps.append(job_title)\n",
    "    \n",
    "    temp = {}\n",
    "    temp['회사명'] = company_name\n",
    "    temp['설명'] = description\n",
    "    temp['채용공고'] = job_temps\n",
    "    \n",
    "    result.append(temp)"
   ]
  },
  {
   "cell_type": "code",
   "execution_count": 141,
   "metadata": {},
   "outputs": [
    {
     "data": {
      "text/plain": [
       "[{'회사명': '트윈코리아', '설명': 'Place be-TWIN! 공간 메타버스 플랫폼 트윈코리아', '채용공고': []},\n",
       " {'회사명': '로켓펀치 (RocketPunch)', '설명': '한국 최대 비즈니스 소셜 네트워크', '채용공고': []},\n",
       " {'회사명': '패스트파이브 (FASTFIVE)', '설명': '오피스 플랫폼 패스트파이브', '채용공고': []},\n",
       " {'회사명': '젠틀파이 (gentlepie)',\n",
       "  '설명': '기업용 AI application(챗봇 등)을 기획하고 개발하는 AI 전문 에이전시 젠틀파이입니다.',\n",
       "  '채용공고': []},\n",
       " {'회사명': '브릭 (BRIQUE)', '설명': 'Data Science Solution Provider', '채용공고': []},\n",
       " {'회사명': '홈리에종 (HomeLiaison)',\n",
       "  '설명': '홈리에종은 홈스타일링 기반의 인테리어 컨시어지 서비스를 제공하는 플랫폼입니다.',\n",
       "  '채용공고': []},\n",
       " {'회사명': '끼리배달 (Kiridelivery.com)', '설명': '소프트웨어 개발 및 공급', '채용공고': []},\n",
       " {'회사명': '집무실(執務室) (jibmusil)',\n",
       "  '설명': '24시간 365일 이용 가능한 세계 최초의 분산 오피스',\n",
       "  '채용공고': []},\n",
       " {'회사명': '오엔제이 (ONJ)', '설명': '세계 최초 용접 산업 플랫폼', '채용공고': []},\n",
       " {'회사명': '오퍼스엠 (OpusM Inc.)',\n",
       "  '설명': '오퍼스엠은 엔터프라이즈 규모 시스템에 신뢰 데이터 기반 사업 모델 구현을 가능하게 해주는 블록체인 솔루션 기업입니다.',\n",
       "  '채용공고': []},\n",
       " {'회사명': '키즈페이 (Kidspay)', '설명': '유아 교육 컨텐츠 플랫폼', '채용공고': []},\n",
       " {'회사명': '프로젝트.어사 (project.eosa)', '설명': '사설 탐정 중개 플랫폼!', '채용공고': []},\n",
       " {'회사명': '스위치원 (switchwon)', '설명': '가장 투명한 환테크 플랫폼', '채용공고': []},\n",
       " {'회사명': '(주)아이비베리 (ivyberry Inc.)', '설명': '온라인과 오프라인을 연결합니다.', '채용공고': []},\n",
       " {'회사명': '글로우데이즈 (GLOWDAYZ)',\n",
       "  '설명': 'Make your life brighter!',\n",
       "  '채용공고': ['[글로우픽] 웹 프론트 개발자 Junior',\n",
       "   '[글로우데이즈] 코스메틱 브랜드 마케터 경력직 채용',\n",
       "   '[글로우픽] UI/UX 디자이너',\n",
       "   '[글로우픽] 웹 프론트 개발자 Senior']},\n",
       " {'회사명': '주식회사 센디네어 (SendInAir Inc.)',\n",
       "  '설명': '탈중앙화 금융 기술의 보편화를 위한 서비스를 개발 및 연구합니다.',\n",
       "  '채용공고': ['[블록체인,Web3] Marketing manager', '신입/경력 프론트엔드 개발자', '디자이너 채용']},\n",
       " {'회사명': '크레이프엑스 (CrepeX)',\n",
       "  '설명': '미래가치를 만드는 컴퍼니빌더. CrepeX 입니다.',\n",
       "  '채용공고': ['퍼포먼스 콘텐츠 마케터 (경력)', '퍼포먼스 콘텐츠 마케터 (신입)']},\n",
       " {'회사명': '벨루가 (veluga)', '설명': 'AI 이미지 에디터를 서비스하는 회사', '채용공고': ['웹 프론트엔드 개발']},\n",
       " {'회사명': '유커넥 (Uconnec)',\n",
       "  '설명': '유튜브 인플루언서 마케팅 플랫폼, 유커넥',\n",
       "  '채용공고': ['[유커넥] 프로덕트 디자이너 (UI/UX 2년~)', '[유커넥] 서비스 기획자 (PO/PM 4년~)']},\n",
       " {'회사명': '이노워크센터 (Innowork Center)',\n",
       "  '설명': '중소벤처기업부 지정 창업지원센터',\n",
       "  '채용공고': ['웹기획 온라인 마케팅 프로젝트 관리 일정 및 행정 관리',\n",
       "   '창업지원 매니저 모집 (업무는 배워가면서 가능, 병역특례 가능)',\n",
       "   '웹 개발자 (PHP 또는 Node.js 또는 Python 등 ) 병역특례 가능']},\n",
       " {'회사명': '닷네임코리아 (Dotname)',\n",
       "  '설명': '국제공인 ICANN 도메인 등록기관',\n",
       "  '채용공고': ['UI/UX CI/BI 웹 기획 또는 디자이너 병역특례 가능',\n",
       "   '웹 개발자 (PHP, Node JS, Python Ruby 등 ) 병역특례 가능',\n",
       "   '웹기획 온라인 마케팅 프로젝트 관리 일정 및 행정 관리']},\n",
       " {'회사명': 'CryptoParadise',\n",
       "  '설명': '블록체인 게임 프로토콜과 무설치형 브라우저 게임을 개발합니다.',\n",
       "  '채용공고': ['[CryptoParadise] Technical Artist',\n",
       "   '[CryptoParadise] Art Director',\n",
       "   '[CryptoParadise] 3D 애니메이터',\n",
       "   '[CryptoParadise] CPO(Chief Product Officer)',\n",
       "   '[CryptoParadise] 리깅 아티스트',\n",
       "   '[CryptoParadise] 배경 컨셉 원화 디자이너',\n",
       "   '[CryptoParadise] Back-end Junior / Senior Developer',\n",
       "   '[CryptoParadise] Front-end Junior Developer',\n",
       "   '[CryptoParadise] Front-end Senior Developer',\n",
       "   '[CryptoParadise] UI/UX 디자이너',\n",
       "   '[CryptoParadise] 전략기획 스태프',\n",
       "   '[CryptoParadise] 3D 라이팅/합성 디자이너',\n",
       "   '[CryptoParadise] 지원 본부 스태프/인턴 채용']},\n",
       " {'회사명': '코레토 (Corretto, Inc.)',\n",
       "  '설명': '소프트웨어로 더 나은 세상의 문을 열다.',\n",
       "  '채용공고': ['코레토와 함께할 백엔드 개발자를 모십니다.', '코레토와 함께할 웹 프론트엔드 개발자를 모십니다.']},\n",
       " {'회사명': '브이에프티 파트너 (VFT partner)',\n",
       "  '설명': 'VFT partner는 시스템 다이어리 앱과 솔루션을 개발하고 있는 벤처 스타트업 입니다.',\n",
       "  '채용공고': ['UX/UI Designer']},\n",
       " {'회사명': '엔버랩스 (NvirLabs)',\n",
       "  '설명': 'Digital 금융 시장의 미래를 만들어 나가는 기업',\n",
       "  '채용공고': ['[FrontEnd] React 개발자',\n",
       "   '[BackEnd] Node.js 개발자',\n",
       "   '경력직 웹디자이너 모집',\n",
       "   '프로젝트 기획자',\n",
       "   '[BackEnd] C++ 개발자']},\n",
       " {'회사명': '이스트엔드 (Eastend)',\n",
       "  '설명': 'Fashion E-commerce',\n",
       "  '채용공고': ['디자이너 브랜드 패션 디자이너']},\n",
       " {'회사명': '부스터스 (Boosters)',\n",
       "  '설명': '디지털 마케팅 & 인플루언서 커머스 기반 글로벌 커머스 브랜드 그룹',\n",
       "  '채용공고': ['콘텐츠 마케터',\n",
       "   '시니어 브랜드 디자이너',\n",
       "   '콘텐츠 디자인 Staff (계약직)',\n",
       "   '온라인 채널 MD',\n",
       "   'Global Sales Manager (미국 지역)',\n",
       "   '브랜드마케터 (퍼포먼스형, 주니어)',\n",
       "   '브랜드마케터 (퍼포먼스형, 시니어)',\n",
       "   '자금 담당자(Junior)',\n",
       "   'DR PD',\n",
       "   '상품기획자 (여행/리빙/생활화학)',\n",
       "   '유통 AMD (계약직)',\n",
       "   '상품기획자 (반려동물)']},\n",
       " {'회사명': '나오나우 (Naonow)',\n",
       "  '설명': '아이비리그 학생들과 1:1 화상 영어',\n",
       "  '채용공고': ['웹 UI/UX 및 SNS 디자이너',\n",
       "   '마케팅 매니저 채용 [해외 화상영어 스타트업]',\n",
       "   '해외스타트업 영업 및 고객관리']},\n",
       " {'회사명': '이지프레스 (EasyPress)',\n",
       "  '설명': '크리에이티브 디자인 스튜디오',\n",
       "  '채용공고': ['[Front-end] 경력직 채용']},\n",
       " {'회사명': '에이임팩트 (Aimpact)',\n",
       "  '설명': '텍스트마이닝기반 직거래 생산성 플랫폼, 세상의 모든 직거래를 어레인지 합니다',\n",
       "  '채용공고': ['[백엔드] 세상에 없던 직거래,함께 만들어요!',\n",
       "   '[개발 LEAD] 세상에 없던 직거래,함께 만들어요!',\n",
       "   '[에디터] 세상에 없던 직거래,함께 만들어요!',\n",
       "   '[PO] 세상에 없던 직거래,함께 만들어요!',\n",
       "   '[프론트엔드] 세상에 없던 직거래,함께 만들어요!',\n",
       "   '[디자이너] 세상에 없던 직거래,함께 만들어요!']},\n",
       " {'회사명': '세정 (SEJUNG)', '설명': '대한민국 대표 패션 그룹', '채용공고': ['총무']},\n",
       " {'회사명': '트릿지 (Tridge)',\n",
       "  '설명': 'We Make Global Trade Happen',\n",
       "  '채용공고': ['Corporate Strategy & Planning Internship (경영 전략·기획 인턴십)',\n",
       "   '프로덕트 매니저 인턴 (3개월 전환형)',\n",
       "   'Chief of Staff Team, Associate/Assistant Manager',\n",
       "   '테크리쿠르터',\n",
       "   'Financial Planning & Analyst (FP&A)',\n",
       "   'Corporate Finance (자금)',\n",
       "   'Quality Assurance',\n",
       "   'Trading Management (무역 관리)',\n",
       "   'Global Fulfillment - Buyer Development (Japan)',\n",
       "   'Creative Strategist',\n",
       "   'Art Director',\n",
       "   'Global Fulfillment - Senior Supplier Development',\n",
       "   'Senior Trading Management',\n",
       "   '시니어 백엔드 개발자 (B2C커머스)',\n",
       "   '주니어 데이터 엔지니어',\n",
       "   'Trading Management Intern (3개월, 정규직 전환형)',\n",
       "   'Business Development & Sales Manager 사업 개발 및 영업 기획 (경력 5년 이상)',\n",
       "   '프로덕트 매니저 (B2C 유픽)',\n",
       "   '국내 영업 인턴',\n",
       "   'Research Lead',\n",
       "   'CEO Office Staff',\n",
       "   '재무팀 인턴십 (3개월 전환형)',\n",
       "   'Compliance Internship (3개월 전환형)',\n",
       "   '해외법인 경영관리 (경력 3-12년)',\n",
       "   'Global Fulfillment - Supplier Development',\n",
       "   'Graphic Designer, Youpick',\n",
       "   'Senior Art Director',\n",
       "   'Creative Copywriter (English)',\n",
       "   '클라우드 엔지니어 (주니어~시니어)',\n",
       "   'Global Market Analyst 애널리스트 채용',\n",
       "   '시니어 콘텐츠 매니저',\n",
       "   'Platform Sales Manager 플랫폼 영업 담당자 (경력 1년 이상)',\n",
       "   'Global Fulfillment Strategy',\n",
       "   'Corporate Strategy & Planning (경영 전략·기획)',\n",
       "   'Global HR Internship (3개월, 정규직 전환형)',\n",
       "   'Korea Warehouse Manager (경력 5-12년)',\n",
       "   '국내 농축수산 영업 담당자 (경력 1-5년)',\n",
       "   'IR Lead',\n",
       "   'Global Fulfillment - Buyer Development (China)',\n",
       "   'Senior Product Designer',\n",
       "   'Product Designer (UX/UI)',\n",
       "   'Graphic Designer, Tridge',\n",
       "   'Senior UX Researcher',\n",
       "   '마케터 (SEO/퍼포먼스 관리)',\n",
       "   'Global Fulfillment - Senior Buyer Development',\n",
       "   '주니어 백엔드 개발자',\n",
       "   'Youpick Marketer',\n",
       "   'Senior Creative Copywriter, Bilingual (English,Korean)',\n",
       "   'Compliance Manager (경력 5년 이상)',\n",
       "   'Creative Copywriter, Bilingual (English,Korean)',\n",
       "   'Senior Creative Strategist',\n",
       "   '시니어 백엔드 개발자 (Python)',\n",
       "   '주니어 프론트엔드 개발자',\n",
       "   '시니어 데이터 엔지니어',\n",
       "   '시니어 머신러닝 개발자',\n",
       "   '주니어 프로덕트 매니저 PM (경력 1년 이상)',\n",
       "   'Global Recruiting Business Partner',\n",
       "   'Senior Talent Acquisition Manager (Tech)',\n",
       "   'Senior Global Talent Acquisition Manager',\n",
       "   '공인회계사(KICPA) 경력직 채용',\n",
       "   '회계팀 경력직 (2-10년)',\n",
       "   'Platform Designer',\n",
       "   'UX Researcher',\n",
       "   'Global Fulfillment - Buyer Development',\n",
       "   '시니어 백엔드 개발자 (Node.js)',\n",
       "   '데브옵스 엔지니어 (주니어~시니어)',\n",
       "   '주니어 머신러닝 개발자',\n",
       "   '시니어 프론트엔드 개발자',\n",
       "   '해외영업 및 무역 인턴십',\n",
       "   '프로덕트 매니저 (경력 2년 이상)',\n",
       "   'Graphic Design Intern, Tridge',\n",
       "   '콘텐츠 매니저']},\n",
       " {'회사명': '렌딩머신 (lendingmachine)',\n",
       "  '설명': 'P2P회사',\n",
       "  '채용공고': ['UX/UI 디자인 경력 사원 채용', '콘텐츠 마케터 경력사원']},\n",
       " {'회사명': '인터엑스',\n",
       "  '설명': '인터엑스는 제조 데이터에 가치를 찾아 고객 비즈니스에 더 나은 결과를 제공하는 AI 플랫폼 전문 기업입니다.',\n",
       "  '채용공고': ['Unity 3D 기반 Digital Twin 클라이언트 개발자',\n",
       "   'PM/PL',\n",
       "   '3D 모델링 디자이너',\n",
       "   'UI 디자이너',\n",
       "   'C# 개발자',\n",
       "   'Backend 개발자',\n",
       "   '웹 개발자',\n",
       "   'ML/DL 엔지니어']}]"
      ]
     },
     "execution_count": 141,
     "metadata": {},
     "output_type": "execute_result"
    }
   ],
   "source": [
    "result"
   ]
  },
  {
   "cell_type": "code",
   "execution_count": 144,
   "metadata": {},
   "outputs": [],
   "source": [
    "driver.get('https://www.rocketpunch.com/jobs?page=1')"
   ]
  },
  {
   "cell_type": "code",
   "execution_count": 145,
   "metadata": {},
   "outputs": [
    {
     "ename": "ElementClickInterceptedException",
     "evalue": "Message: element click intercepted: Element <a class=\"item\" data-query-add=\"page=...\" href=\"?page=8&amp;q=\">8</a> is not clickable at point (920, 760). Other element would receive the click: <div class=\"bottom-signup\">...</div>\n  (Session info: chrome=105.0.5195.52)\nStacktrace:\n0   chromedriver                        0x0000000102a5da90 chromedriver + 3889808\n1   chromedriver                        0x00000001029ecb54 chromedriver + 3427156\n2   chromedriver                        0x00000001026de238 chromedriver + 221752\n3   chromedriver                        0x0000000102715894 chromedriver + 448660\n4   chromedriver                        0x0000000102713a38 chromedriver + 440888\n5   chromedriver                        0x00000001027117ec chromedriver + 432108\n6   chromedriver                        0x0000000102710834 chromedriver + 428084\n7   chromedriver                        0x00000001027060cc chromedriver + 385228\n8   chromedriver                        0x0000000102705a10 chromedriver + 383504\n9   chromedriver                        0x0000000102738944 chromedriver + 592196\n10  chromedriver                        0x000000010270454c chromedriver + 378188\n11  chromedriver                        0x0000000102a312f8 chromedriver + 3707640\n12  chromedriver                        0x0000000102a34ea8 chromedriver + 3722920\n13  chromedriver                        0x0000000102a3b3d8 chromedriver + 3748824\n14  chromedriver                        0x0000000102a359a8 chromedriver + 3725736\n15  chromedriver                        0x0000000102a10de8 chromedriver + 3575272\n16  chromedriver                        0x0000000102a4fd1c chromedriver + 3833116\n17  chromedriver                        0x0000000102a4fe84 chromedriver + 3833476\n18  chromedriver                        0x0000000102a64210 chromedriver + 3916304\n19  libsystem_pthread.dylib             0x00000001a62f426c _pthread_start + 148\n20  libsystem_pthread.dylib             0x00000001a62ef08c thread_start + 8\n",
     "output_type": "error",
     "traceback": [
      "\u001b[0;31m---------------------------------------------------------------------------\u001b[0m",
      "\u001b[0;31mElementClickInterceptedException\u001b[0m          Traceback (most recent call last)",
      "\u001b[1;32m/Users/joon/Desktop/Belly_package/crawling/5.ipynb 셀 27\u001b[0m in \u001b[0;36m<cell line: 3>\u001b[0;34m()\u001b[0m\n\u001b[1;32m      <a href='vscode-notebook-cell:/Users/joon/Desktop/Belly_package/crawling/5.ipynb#X36sZmlsZQ%3D%3D?line=7'>8</a>\u001b[0m     \u001b[39mif\u001b[39;00m page\u001b[39m.\u001b[39mtext \u001b[39m==\u001b[39m \u001b[39mstr\u001b[39m(page_now\u001b[39m+\u001b[39m\u001b[39m1\u001b[39m):\n\u001b[1;32m      <a href='vscode-notebook-cell:/Users/joon/Desktop/Belly_package/crawling/5.ipynb#X36sZmlsZQ%3D%3D?line=8'>9</a>\u001b[0m         page_now \u001b[39m=\u001b[39m \u001b[39mint\u001b[39m(page\u001b[39m.\u001b[39mtext)\n\u001b[0;32m---> <a href='vscode-notebook-cell:/Users/joon/Desktop/Belly_package/crawling/5.ipynb#X36sZmlsZQ%3D%3D?line=9'>10</a>\u001b[0m         page\u001b[39m.\u001b[39;49mclick()\n\u001b[1;32m     <a href='vscode-notebook-cell:/Users/joon/Desktop/Belly_package/crawling/5.ipynb#X36sZmlsZQ%3D%3D?line=10'>11</a>\u001b[0m         \u001b[39mbreak\u001b[39;00m\n\u001b[1;32m     <a href='vscode-notebook-cell:/Users/joon/Desktop/Belly_package/crawling/5.ipynb#X36sZmlsZQ%3D%3D?line=11'>12</a>\u001b[0m time\u001b[39m.\u001b[39msleep(\u001b[39m2\u001b[39m)\n",
      "File \u001b[0;32m~/opt/anaconda3/envs/study/lib/python3.10/site-packages/selenium/webdriver/remote/webelement.py:88\u001b[0m, in \u001b[0;36mWebElement.click\u001b[0;34m(self)\u001b[0m\n\u001b[1;32m     86\u001b[0m \u001b[39mdef\u001b[39;00m \u001b[39mclick\u001b[39m(\u001b[39mself\u001b[39m) \u001b[39m-\u001b[39m\u001b[39m>\u001b[39m \u001b[39mNone\u001b[39;00m:\n\u001b[1;32m     87\u001b[0m     \u001b[39m\"\"\"Clicks the element.\"\"\"\u001b[39;00m\n\u001b[0;32m---> 88\u001b[0m     \u001b[39mself\u001b[39;49m\u001b[39m.\u001b[39;49m_execute(Command\u001b[39m.\u001b[39;49mCLICK_ELEMENT)\n",
      "File \u001b[0;32m~/opt/anaconda3/envs/study/lib/python3.10/site-packages/selenium/webdriver/remote/webelement.py:396\u001b[0m, in \u001b[0;36mWebElement._execute\u001b[0;34m(self, command, params)\u001b[0m\n\u001b[1;32m    394\u001b[0m     params \u001b[39m=\u001b[39m {}\n\u001b[1;32m    395\u001b[0m params[\u001b[39m'\u001b[39m\u001b[39mid\u001b[39m\u001b[39m'\u001b[39m] \u001b[39m=\u001b[39m \u001b[39mself\u001b[39m\u001b[39m.\u001b[39m_id\n\u001b[0;32m--> 396\u001b[0m \u001b[39mreturn\u001b[39;00m \u001b[39mself\u001b[39;49m\u001b[39m.\u001b[39;49m_parent\u001b[39m.\u001b[39;49mexecute(command, params)\n",
      "File \u001b[0;32m~/opt/anaconda3/envs/study/lib/python3.10/site-packages/selenium/webdriver/remote/webdriver.py:428\u001b[0m, in \u001b[0;36mWebDriver.execute\u001b[0;34m(self, driver_command, params)\u001b[0m\n\u001b[1;32m    426\u001b[0m response \u001b[39m=\u001b[39m \u001b[39mself\u001b[39m\u001b[39m.\u001b[39mcommand_executor\u001b[39m.\u001b[39mexecute(driver_command, params)\n\u001b[1;32m    427\u001b[0m \u001b[39mif\u001b[39;00m response:\n\u001b[0;32m--> 428\u001b[0m     \u001b[39mself\u001b[39;49m\u001b[39m.\u001b[39;49merror_handler\u001b[39m.\u001b[39;49mcheck_response(response)\n\u001b[1;32m    429\u001b[0m     response[\u001b[39m'\u001b[39m\u001b[39mvalue\u001b[39m\u001b[39m'\u001b[39m] \u001b[39m=\u001b[39m \u001b[39mself\u001b[39m\u001b[39m.\u001b[39m_unwrap_value(\n\u001b[1;32m    430\u001b[0m         response\u001b[39m.\u001b[39mget(\u001b[39m'\u001b[39m\u001b[39mvalue\u001b[39m\u001b[39m'\u001b[39m, \u001b[39mNone\u001b[39;00m))\n\u001b[1;32m    431\u001b[0m     \u001b[39mreturn\u001b[39;00m response\n",
      "File \u001b[0;32m~/opt/anaconda3/envs/study/lib/python3.10/site-packages/selenium/webdriver/remote/errorhandler.py:243\u001b[0m, in \u001b[0;36mErrorHandler.check_response\u001b[0;34m(self, response)\u001b[0m\n\u001b[1;32m    241\u001b[0m         alert_text \u001b[39m=\u001b[39m value[\u001b[39m'\u001b[39m\u001b[39malert\u001b[39m\u001b[39m'\u001b[39m]\u001b[39m.\u001b[39mget(\u001b[39m'\u001b[39m\u001b[39mtext\u001b[39m\u001b[39m'\u001b[39m)\n\u001b[1;32m    242\u001b[0m     \u001b[39mraise\u001b[39;00m exception_class(message, screen, stacktrace, alert_text)  \u001b[39m# type: ignore[call-arg]  # mypy is not smart enough here\u001b[39;00m\n\u001b[0;32m--> 243\u001b[0m \u001b[39mraise\u001b[39;00m exception_class(message, screen, stacktrace)\n",
      "\u001b[0;31mElementClickInterceptedException\u001b[0m: Message: element click intercepted: Element <a class=\"item\" data-query-add=\"page=...\" href=\"?page=8&amp;q=\">8</a> is not clickable at point (920, 760). Other element would receive the click: <div class=\"bottom-signup\">...</div>\n  (Session info: chrome=105.0.5195.52)\nStacktrace:\n0   chromedriver                        0x0000000102a5da90 chromedriver + 3889808\n1   chromedriver                        0x00000001029ecb54 chromedriver + 3427156\n2   chromedriver                        0x00000001026de238 chromedriver + 221752\n3   chromedriver                        0x0000000102715894 chromedriver + 448660\n4   chromedriver                        0x0000000102713a38 chromedriver + 440888\n5   chromedriver                        0x00000001027117ec chromedriver + 432108\n6   chromedriver                        0x0000000102710834 chromedriver + 428084\n7   chromedriver                        0x00000001027060cc chromedriver + 385228\n8   chromedriver                        0x0000000102705a10 chromedriver + 383504\n9   chromedriver                        0x0000000102738944 chromedriver + 592196\n10  chromedriver                        0x000000010270454c chromedriver + 378188\n11  chromedriver                        0x0000000102a312f8 chromedriver + 3707640\n12  chromedriver                        0x0000000102a34ea8 chromedriver + 3722920\n13  chromedriver                        0x0000000102a3b3d8 chromedriver + 3748824\n14  chromedriver                        0x0000000102a359a8 chromedriver + 3725736\n15  chromedriver                        0x0000000102a10de8 chromedriver + 3575272\n16  chromedriver                        0x0000000102a4fd1c chromedriver + 3833116\n17  chromedriver                        0x0000000102a4fe84 chromedriver + 3833476\n18  chromedriver                        0x0000000102a64210 chromedriver + 3916304\n19  libsystem_pthread.dylib             0x00000001a62f426c _pthread_start + 148\n20  libsystem_pthread.dylib             0x00000001a62ef08c thread_start + 8\n"
     ]
    }
   ],
   "source": [
    "import time\n",
    "page_now = 1\n",
    "while True:\n",
    "    driver.execute_script(\"window.scrollTo(0,document.body.scrollHeight);\")\n",
    "\n",
    "    pages = driver.find_elements(By.CSS_SELECTOR,'.pagination .computer .item')\n",
    "    for page in pages:\n",
    "        if page.text == str(page_now+1):\n",
    "            page_now = int(page.text)\n",
    "            page.click()\n",
    "            break\n",
    "    time.sleep(2)\n",
    "\n",
    "    if page_now == 8:\n",
    "        break"
   ]
  },
  {
   "cell_type": "code",
   "execution_count": 130,
   "metadata": {},
   "outputs": [],
   "source": [
    "driver.get('https://www.rocketpunch.com')"
   ]
  },
  {
   "cell_type": "code",
   "execution_count": null,
   "metadata": {},
   "outputs": [],
   "source": []
  }
 ],
 "metadata": {
  "kernelspec": {
   "display_name": "Python 3.10.4 ('study')",
   "language": "python",
   "name": "python3"
  },
  "language_info": {
   "codemirror_mode": {
    "name": "ipython",
    "version": 3
   },
   "file_extension": ".py",
   "mimetype": "text/x-python",
   "name": "python",
   "nbconvert_exporter": "python",
   "pygments_lexer": "ipython3",
   "version": "3.10.4"
  },
  "orig_nbformat": 4,
  "vscode": {
   "interpreter": {
    "hash": "37119a116a45c2243008a0e89dda34bbd2ff7fcda6a8d95159bf2d6b525d3e84"
   }
  }
 },
 "nbformat": 4,
 "nbformat_minor": 2
}
